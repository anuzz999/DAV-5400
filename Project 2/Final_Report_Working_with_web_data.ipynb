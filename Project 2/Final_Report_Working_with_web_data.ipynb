{
 "cells": [
  {
   "cell_type": "markdown",
   "metadata": {},
   "source": [
    "# Working With Web Data\n",
    "\n",
    "## Author - Anuj Kumar Shah"
   ]
  },
  {
   "cell_type": "markdown",
   "metadata": {},
   "source": [
    "## XML Sitemap Parsing for Web Data Analysis: TradingView\n",
    "\n",
    "In this notebook, we delve into the process of extracting and parsing XML sitemaps from the website `www.tradingview.com`. Our goal is to demonstrate the handling and transformation of web data into a structured format, using XML parsing. This task is critical for preparing web data for further analysis, including potential applications in machine learning.\n",
    "\n",
    "This exercise is part of Project 2 in the DAV 5400 course, emphasizing the development of web data handling skills, particularly in XML parsing, with Python tools and libraries.\n"
   ]
  },
  {
   "cell_type": "markdown",
   "metadata": {},
   "source": [
    "### Setup for Parsing TradingView Sitemap\n",
    "\n",
    "To begin parsing the sitemap from `www.tradingview.com`, we first set up our environment by importing necessary libraries. We will use `pandas` for data manipulation and `BeautifulSoup` from `bs4` for parsing XML content. The `SitemapParser` class, defined in our script, will be used to automate the process of fetching and parsing the sitemaps.\n"
   ]
  },
  {
   "cell_type": "code",
   "execution_count": 3,
   "metadata": {},
   "outputs": [],
   "source": [
    "# Import necessary libraries\n",
    "import pandas as pd\n",
    "import requests\n",
    "from src.my_package.sitemap_parser import SitemapParser  \n",
    "\n",
    "# Initialize the SitemapParser with the TradingView website\n",
    "parser = SitemapParser(\"https://www.tradingview.com\")\n"
   ]
  },
  {
   "cell_type": "markdown",
   "metadata": {},
   "source": [
    "### Fetching and Parsing the Sitemap\n",
    "\n",
    "The `SitemapParser` class is designed to automatically find and parse the sitemap of the specified domain by reading the `robots.txt` file. This process involves fetching the sitemap URLs listed in the `robots.txt` and then parsing each of these sitemaps. The parsed data is organized into pandas DataFrames for easy manipulation and analysis.\n"
   ]
  },
  {
   "cell_type": "code",
   "execution_count": 4,
   "metadata": {},
   "outputs": [],
   "source": [
    "# Start the parsing process\n",
    "parser.start_parsing()\n"
   ]
  },
  {
   "cell_type": "markdown",
   "metadata": {},
   "source": [
    "### DataFrames from Sitemaps\n",
    "\n",
    "Once the sitemaps are fetched and parsed, the next step is to structure the extracted URLs into pandas DataFrames. This transformation is crucial for several reasons:\n",
    "\n",
    "1. **Structured Data:** DataFrames provide a structured, tabular format, which is essential for data analysis tasks.\n",
    "2. **Ease of Manipulation:** With pandas DataFrames, we can easily manipulate and analyze the data, perform filtering, and extract specific information.\n",
    "3. **Readability:** Presenting the data in a table format enhances readability and makes it easier to comprehend the website's structure.\n",
    "\n",
    "Each URL from the sitemap is stored in a DataFrame, which includes not only the URLs but also additional derived information like subdirectories. Below, we display the first few rows of each sitemap's DataFrame to get an overview of the data we have parsed.\n"
   ]
  },
  {
   "cell_type": "code",
   "execution_count": 5,
   "metadata": {},
   "outputs": [
    {
     "name": "stdout",
     "output_type": "stream",
     "text": [
      "Sitemap: sitemap-base\n"
     ]
    },
    {
     "data": {
      "text/html": [
       "<div>\n",
       "<style scoped>\n",
       "    .dataframe tbody tr th:only-of-type {\n",
       "        vertical-align: middle;\n",
       "    }\n",
       "\n",
       "    .dataframe tbody tr th {\n",
       "        vertical-align: top;\n",
       "    }\n",
       "\n",
       "    .dataframe thead th {\n",
       "        text-align: right;\n",
       "    }\n",
       "</style>\n",
       "<table border=\"1\" class=\"dataframe\">\n",
       "  <thead>\n",
       "    <tr style=\"text-align: right;\">\n",
       "      <th></th>\n",
       "      <th>URLs</th>\n",
       "      <th>subdirectory1</th>\n",
       "      <th>subdirectory2</th>\n",
       "    </tr>\n",
       "  </thead>\n",
       "  <tbody>\n",
       "    <tr>\n",
       "      <th>0</th>\n",
       "      <td>https://www.tradingview.com/</td>\n",
       "      <td></td>\n",
       "      <td></td>\n",
       "    </tr>\n",
       "    <tr>\n",
       "      <th>1</th>\n",
       "      <td>https://www.tradingview.com/ideas/</td>\n",
       "      <td>ideas</td>\n",
       "      <td></td>\n",
       "    </tr>\n",
       "    <tr>\n",
       "      <th>2</th>\n",
       "      <td>https://www.tradingview.com/scripts/</td>\n",
       "      <td>scripts</td>\n",
       "      <td></td>\n",
       "    </tr>\n",
       "    <tr>\n",
       "      <th>3</th>\n",
       "      <td>https://www.tradingview.com/education/</td>\n",
       "      <td>education</td>\n",
       "      <td></td>\n",
       "    </tr>\n",
       "    <tr>\n",
       "      <th>4</th>\n",
       "      <td>https://www.tradingview.com/chart/</td>\n",
       "      <td>chart</td>\n",
       "      <td></td>\n",
       "    </tr>\n",
       "  </tbody>\n",
       "</table>\n",
       "</div>"
      ],
      "text/plain": [
       "                                     URLs subdirectory1 subdirectory2\n",
       "0            https://www.tradingview.com/                            \n",
       "1      https://www.tradingview.com/ideas/         ideas              \n",
       "2    https://www.tradingview.com/scripts/       scripts              \n",
       "3  https://www.tradingview.com/education/     education              \n",
       "4      https://www.tradingview.com/chart/         chart              "
      ]
     },
     "metadata": {},
     "output_type": "display_data"
    },
    {
     "name": "stdout",
     "output_type": "stream",
     "text": [
      "Sitemap: sitemap-news\n"
     ]
    },
    {
     "data": {
      "text/html": [
       "<div>\n",
       "<style scoped>\n",
       "    .dataframe tbody tr th:only-of-type {\n",
       "        vertical-align: middle;\n",
       "    }\n",
       "\n",
       "    .dataframe tbody tr th {\n",
       "        vertical-align: top;\n",
       "    }\n",
       "\n",
       "    .dataframe thead th {\n",
       "        text-align: right;\n",
       "    }\n",
       "</style>\n",
       "<table border=\"1\" class=\"dataframe\">\n",
       "  <thead>\n",
       "    <tr style=\"text-align: right;\">\n",
       "      <th></th>\n",
       "      <th>URLs</th>\n",
       "      <th>subdirectory1</th>\n",
       "      <th>subdirectory2</th>\n",
       "      <th>subdirectory3</th>\n",
       "    </tr>\n",
       "  </thead>\n",
       "  <tbody>\n",
       "    <tr>\n",
       "      <th>0</th>\n",
       "      <td>https://www.tradingview.com/news/tradingview:6...</td>\n",
       "      <td>news</td>\n",
       "      <td>tradingview:6477e269e094b:0-amazon-s-irobot-ac...</td>\n",
       "      <td></td>\n",
       "    </tr>\n",
       "    <tr>\n",
       "      <th>1</th>\n",
       "      <td>https://www.tradingview.com/news/tradingview:c...</td>\n",
       "      <td>news</td>\n",
       "      <td>tradingview:cf43bd92a094b:0-apple-s-iphone-rev...</td>\n",
       "      <td></td>\n",
       "    </tr>\n",
       "    <tr>\n",
       "      <th>2</th>\n",
       "      <td>https://www.tradingview.com/news/tradingview:a...</td>\n",
       "      <td>news</td>\n",
       "      <td>tradingview:a3fecb635094b:0-coinbase-shares-ne...</td>\n",
       "      <td></td>\n",
       "    </tr>\n",
       "    <tr>\n",
       "      <th>3</th>\n",
       "      <td>https://www.tradingview.com/news/tradingview:2...</td>\n",
       "      <td>news</td>\n",
       "      <td>tradingview:259b49811094b:0-nvidia-delays-ai-c...</td>\n",
       "      <td></td>\n",
       "    </tr>\n",
       "    <tr>\n",
       "      <th>4</th>\n",
       "      <td>https://www.tradingview.com/news/tradingview:8...</td>\n",
       "      <td>news</td>\n",
       "      <td>tradingview:8e2af7e80094b:0-salesforce-s-q3-ea...</td>\n",
       "      <td></td>\n",
       "    </tr>\n",
       "  </tbody>\n",
       "</table>\n",
       "</div>"
      ],
      "text/plain": [
       "                                                URLs subdirectory1  \\\n",
       "0  https://www.tradingview.com/news/tradingview:6...          news   \n",
       "1  https://www.tradingview.com/news/tradingview:c...          news   \n",
       "2  https://www.tradingview.com/news/tradingview:a...          news   \n",
       "3  https://www.tradingview.com/news/tradingview:2...          news   \n",
       "4  https://www.tradingview.com/news/tradingview:8...          news   \n",
       "\n",
       "                                       subdirectory2 subdirectory3  \n",
       "0  tradingview:6477e269e094b:0-amazon-s-irobot-ac...                \n",
       "1  tradingview:cf43bd92a094b:0-apple-s-iphone-rev...                \n",
       "2  tradingview:a3fecb635094b:0-coinbase-shares-ne...                \n",
       "3  tradingview:259b49811094b:0-nvidia-delays-ai-c...                \n",
       "4  tradingview:8e2af7e80094b:0-salesforce-s-q3-ea...                "
      ]
     },
     "metadata": {},
     "output_type": "display_data"
    },
    {
     "name": "stdout",
     "output_type": "stream",
     "text": [
      "Sitemap: sitemap-categories\n"
     ]
    },
    {
     "data": {
      "text/html": [
       "<div>\n",
       "<style scoped>\n",
       "    .dataframe tbody tr th:only-of-type {\n",
       "        vertical-align: middle;\n",
       "    }\n",
       "\n",
       "    .dataframe tbody tr th {\n",
       "        vertical-align: top;\n",
       "    }\n",
       "\n",
       "    .dataframe thead th {\n",
       "        text-align: right;\n",
       "    }\n",
       "</style>\n",
       "<table border=\"1\" class=\"dataframe\">\n",
       "  <thead>\n",
       "    <tr style=\"text-align: right;\">\n",
       "      <th></th>\n",
       "      <th>URLs</th>\n",
       "      <th>subdirectory1</th>\n",
       "      <th>subdirectory2</th>\n",
       "      <th>subdirectory3</th>\n",
       "    </tr>\n",
       "  </thead>\n",
       "  <tbody>\n",
       "    <tr>\n",
       "      <th>0</th>\n",
       "      <td>https://www.tradingview.com/markets/stocks-phi...</td>\n",
       "      <td>markets</td>\n",
       "      <td>stocks-philippines</td>\n",
       "      <td>market-movers-highest-revenue</td>\n",
       "    </tr>\n",
       "    <tr>\n",
       "      <th>1</th>\n",
       "      <td>https://www.tradingview.com/markets/stocks-ksa...</td>\n",
       "      <td>markets</td>\n",
       "      <td>stocks-ksa</td>\n",
       "      <td>market-movers-large-cap</td>\n",
       "    </tr>\n",
       "    <tr>\n",
       "      <th>2</th>\n",
       "      <td>https://www.tradingview.com/markets/stocks-aus...</td>\n",
       "      <td>markets</td>\n",
       "      <td>stocks-austria</td>\n",
       "      <td>market-movers-highest-cash</td>\n",
       "    </tr>\n",
       "    <tr>\n",
       "      <th>3</th>\n",
       "      <td>https://www.tradingview.com/markets/stocks-net...</td>\n",
       "      <td>markets</td>\n",
       "      <td>stocks-netherlands</td>\n",
       "      <td></td>\n",
       "    </tr>\n",
       "    <tr>\n",
       "      <th>4</th>\n",
       "      <td>https://www.tradingview.com/markets/stocks-ser...</td>\n",
       "      <td>markets</td>\n",
       "      <td>stocks-serbia</td>\n",
       "      <td>market-movers-largest-employers</td>\n",
       "    </tr>\n",
       "  </tbody>\n",
       "</table>\n",
       "</div>"
      ],
      "text/plain": [
       "                                                URLs subdirectory1  \\\n",
       "0  https://www.tradingview.com/markets/stocks-phi...       markets   \n",
       "1  https://www.tradingview.com/markets/stocks-ksa...       markets   \n",
       "2  https://www.tradingview.com/markets/stocks-aus...       markets   \n",
       "3  https://www.tradingview.com/markets/stocks-net...       markets   \n",
       "4  https://www.tradingview.com/markets/stocks-ser...       markets   \n",
       "\n",
       "        subdirectory2                    subdirectory3  \n",
       "0  stocks-philippines    market-movers-highest-revenue  \n",
       "1          stocks-ksa          market-movers-large-cap  \n",
       "2      stocks-austria       market-movers-highest-cash  \n",
       "3  stocks-netherlands                                   \n",
       "4       stocks-serbia  market-movers-largest-employers  "
      ]
     },
     "metadata": {},
     "output_type": "display_data"
    },
    {
     "name": "stdout",
     "output_type": "stream",
     "text": [
      "Sitemap: sitemap-ideas\n"
     ]
    },
    {
     "data": {
      "text/html": [
       "<div>\n",
       "<style scoped>\n",
       "    .dataframe tbody tr th:only-of-type {\n",
       "        vertical-align: middle;\n",
       "    }\n",
       "\n",
       "    .dataframe tbody tr th {\n",
       "        vertical-align: top;\n",
       "    }\n",
       "\n",
       "    .dataframe thead th {\n",
       "        text-align: right;\n",
       "    }\n",
       "</style>\n",
       "<table border=\"1\" class=\"dataframe\">\n",
       "  <thead>\n",
       "    <tr style=\"text-align: right;\">\n",
       "      <th></th>\n",
       "      <th>URLs</th>\n",
       "      <th>subdirectory1</th>\n",
       "      <th>subdirectory2</th>\n",
       "      <th>subdirectory3</th>\n",
       "      <th>subdirectory4</th>\n",
       "    </tr>\n",
       "  </thead>\n",
       "  <tbody>\n",
       "    <tr>\n",
       "      <th>0</th>\n",
       "      <td>https://www.tradingview.com/chart/EURUSD/aX3kC...</td>\n",
       "      <td>chart</td>\n",
       "      <td>EURUSD</td>\n",
       "      <td>aX3kCqrE-10-more-things-I-learned-in-my-short-...</td>\n",
       "      <td></td>\n",
       "    </tr>\n",
       "    <tr>\n",
       "      <th>1</th>\n",
       "      <td>https://www.tradingview.com/chart/BTCUSD/7GCqP...</td>\n",
       "      <td>chart</td>\n",
       "      <td>BTCUSD</td>\n",
       "      <td>7GCqPZBy-Bitcoin-Long-Term-4-year-cycle-fractal</td>\n",
       "      <td></td>\n",
       "    </tr>\n",
       "    <tr>\n",
       "      <th>2</th>\n",
       "      <td>https://www.tradingview.com/chart/GME/EQu6xcC3...</td>\n",
       "      <td>chart</td>\n",
       "      <td>GME</td>\n",
       "      <td>EQu6xcC3-GME-is-bound-to-pop-A-technical-funda...</td>\n",
       "      <td></td>\n",
       "    </tr>\n",
       "    <tr>\n",
       "      <th>3</th>\n",
       "      <td>https://www.tradingview.com/chart/GME/vElShFpa...</td>\n",
       "      <td>chart</td>\n",
       "      <td>GME</td>\n",
       "      <td>vElShFpa-Michael-Burry-The-Big-Short-squeeze-500</td>\n",
       "      <td></td>\n",
       "    </tr>\n",
       "    <tr>\n",
       "      <th>4</th>\n",
       "      <td>https://www.tradingview.com/chart/BTCUSD/Ra2xQ...</td>\n",
       "      <td>chart</td>\n",
       "      <td>BTCUSD</td>\n",
       "      <td>Ra2xQeBx-The-fascinating-history-of-derivatives</td>\n",
       "      <td></td>\n",
       "    </tr>\n",
       "  </tbody>\n",
       "</table>\n",
       "</div>"
      ],
      "text/plain": [
       "                                                URLs subdirectory1  \\\n",
       "0  https://www.tradingview.com/chart/EURUSD/aX3kC...         chart   \n",
       "1  https://www.tradingview.com/chart/BTCUSD/7GCqP...         chart   \n",
       "2  https://www.tradingview.com/chart/GME/EQu6xcC3...         chart   \n",
       "3  https://www.tradingview.com/chart/GME/vElShFpa...         chart   \n",
       "4  https://www.tradingview.com/chart/BTCUSD/Ra2xQ...         chart   \n",
       "\n",
       "  subdirectory2                                      subdirectory3  \\\n",
       "0        EURUSD  aX3kCqrE-10-more-things-I-learned-in-my-short-...   \n",
       "1        BTCUSD    7GCqPZBy-Bitcoin-Long-Term-4-year-cycle-fractal   \n",
       "2           GME  EQu6xcC3-GME-is-bound-to-pop-A-technical-funda...   \n",
       "3           GME   vElShFpa-Michael-Burry-The-Big-Short-squeeze-500   \n",
       "4        BTCUSD    Ra2xQeBx-The-fascinating-history-of-derivatives   \n",
       "\n",
       "  subdirectory4  \n",
       "0                \n",
       "1                \n",
       "2                \n",
       "3                \n",
       "4                "
      ]
     },
     "metadata": {},
     "output_type": "display_data"
    },
    {
     "name": "stdout",
     "output_type": "stream",
     "text": [
      "Sitemap: sitemap-scripts\n"
     ]
    },
    {
     "data": {
      "text/html": [
       "<div>\n",
       "<style scoped>\n",
       "    .dataframe tbody tr th:only-of-type {\n",
       "        vertical-align: middle;\n",
       "    }\n",
       "\n",
       "    .dataframe tbody tr th {\n",
       "        vertical-align: top;\n",
       "    }\n",
       "\n",
       "    .dataframe thead th {\n",
       "        text-align: right;\n",
       "    }\n",
       "</style>\n",
       "<table border=\"1\" class=\"dataframe\">\n",
       "  <thead>\n",
       "    <tr style=\"text-align: right;\">\n",
       "      <th></th>\n",
       "      <th>URLs</th>\n",
       "      <th>subdirectory1</th>\n",
       "      <th>subdirectory2</th>\n",
       "    </tr>\n",
       "  </thead>\n",
       "  <tbody>\n",
       "    <tr>\n",
       "      <th>0</th>\n",
       "      <td>https://www.tradingview.com/script/32ohT5SQ-Fu...</td>\n",
       "      <td>script</td>\n",
       "      <td>32ohT5SQ-Function-Highest-Lowest</td>\n",
       "    </tr>\n",
       "    <tr>\n",
       "      <th>1</th>\n",
       "      <td>https://www.tradingview.com/script/juMBqtQk-Ti...</td>\n",
       "      <td>script</td>\n",
       "      <td>juMBqtQk-Time-Series-Lag-Reduction-Filter-by-C...</td>\n",
       "    </tr>\n",
       "    <tr>\n",
       "      <th>2</th>\n",
       "      <td>https://www.tradingview.com/script/PcO280uj-LS...</td>\n",
       "      <td>script</td>\n",
       "      <td>PcO280uj-LSMA-A-Fast-And-Simple-Alternative-Ca...</td>\n",
       "    </tr>\n",
       "    <tr>\n",
       "      <th>3</th>\n",
       "      <td>https://www.tradingview.com/script/CtjX82Hp-Ex...</td>\n",
       "      <td>script</td>\n",
       "      <td>CtjX82Hp-Extrapolated-Pivot-Connector-Lets-Mak...</td>\n",
       "    </tr>\n",
       "    <tr>\n",
       "      <th>4</th>\n",
       "      <td>https://www.tradingview.com/script/tKzP5Uj0-Ha...</td>\n",
       "      <td>script</td>\n",
       "      <td>tKzP5Uj0-Hancock-RSI-Volume</td>\n",
       "    </tr>\n",
       "  </tbody>\n",
       "</table>\n",
       "</div>"
      ],
      "text/plain": [
       "                                                URLs subdirectory1  \\\n",
       "0  https://www.tradingview.com/script/32ohT5SQ-Fu...        script   \n",
       "1  https://www.tradingview.com/script/juMBqtQk-Ti...        script   \n",
       "2  https://www.tradingview.com/script/PcO280uj-LS...        script   \n",
       "3  https://www.tradingview.com/script/CtjX82Hp-Ex...        script   \n",
       "4  https://www.tradingview.com/script/tKzP5Uj0-Ha...        script   \n",
       "\n",
       "                                       subdirectory2  \n",
       "0                   32ohT5SQ-Function-Highest-Lowest  \n",
       "1  juMBqtQk-Time-Series-Lag-Reduction-Filter-by-C...  \n",
       "2  PcO280uj-LSMA-A-Fast-And-Simple-Alternative-Ca...  \n",
       "3  CtjX82Hp-Extrapolated-Pivot-Connector-Lets-Mak...  \n",
       "4                        tKzP5Uj0-Hancock-RSI-Volume  "
      ]
     },
     "metadata": {},
     "output_type": "display_data"
    },
    {
     "name": "stdout",
     "output_type": "stream",
     "text": [
      "Sitemap: sitemap-sparks\n"
     ]
    },
    {
     "data": {
      "text/html": [
       "<div>\n",
       "<style scoped>\n",
       "    .dataframe tbody tr th:only-of-type {\n",
       "        vertical-align: middle;\n",
       "    }\n",
       "\n",
       "    .dataframe tbody tr th {\n",
       "        vertical-align: top;\n",
       "    }\n",
       "\n",
       "    .dataframe thead th {\n",
       "        text-align: right;\n",
       "    }\n",
       "</style>\n",
       "<table border=\"1\" class=\"dataframe\">\n",
       "  <thead>\n",
       "    <tr style=\"text-align: right;\">\n",
       "      <th></th>\n",
       "      <th>URLs</th>\n",
       "      <th>subdirectory1</th>\n",
       "      <th>subdirectory2</th>\n",
       "      <th>subdirectory3</th>\n",
       "    </tr>\n",
       "  </thead>\n",
       "  <tbody>\n",
       "    <tr>\n",
       "      <th>0</th>\n",
       "      <td>https://www.tradingview.com/sparks/work/</td>\n",
       "      <td>sparks</td>\n",
       "      <td>work</td>\n",
       "      <td></td>\n",
       "    </tr>\n",
       "    <tr>\n",
       "      <th>1</th>\n",
       "      <td>https://www.tradingview.com/sparks/play/</td>\n",
       "      <td>sparks</td>\n",
       "      <td>play</td>\n",
       "      <td></td>\n",
       "    </tr>\n",
       "    <tr>\n",
       "      <th>2</th>\n",
       "      <td>https://www.tradingview.com/sparks/home/</td>\n",
       "      <td>sparks</td>\n",
       "      <td>home</td>\n",
       "      <td></td>\n",
       "    </tr>\n",
       "    <tr>\n",
       "      <th>3</th>\n",
       "      <td>https://www.tradingview.com/sparks/industry-in...</td>\n",
       "      <td>sparks</td>\n",
       "      <td>industry-infrastructure</td>\n",
       "      <td></td>\n",
       "    </tr>\n",
       "    <tr>\n",
       "      <th>4</th>\n",
       "      <td>https://www.tradingview.com/sparks/transport-l...</td>\n",
       "      <td>sparks</td>\n",
       "      <td>transport-logistics</td>\n",
       "      <td></td>\n",
       "    </tr>\n",
       "  </tbody>\n",
       "</table>\n",
       "</div>"
      ],
      "text/plain": [
       "                                                URLs subdirectory1  \\\n",
       "0           https://www.tradingview.com/sparks/work/        sparks   \n",
       "1           https://www.tradingview.com/sparks/play/        sparks   \n",
       "2           https://www.tradingview.com/sparks/home/        sparks   \n",
       "3  https://www.tradingview.com/sparks/industry-in...        sparks   \n",
       "4  https://www.tradingview.com/sparks/transport-l...        sparks   \n",
       "\n",
       "             subdirectory2 subdirectory3  \n",
       "0                     work                \n",
       "1                     play                \n",
       "2                     home                \n",
       "3  industry-infrastructure                \n",
       "4      transport-logistics                "
      ]
     },
     "metadata": {},
     "output_type": "display_data"
    },
    {
     "name": "stdout",
     "output_type": "stream",
     "text": [
      "Sitemap: sitemap-support\n"
     ]
    },
    {
     "data": {
      "text/html": [
       "<div>\n",
       "<style scoped>\n",
       "    .dataframe tbody tr th:only-of-type {\n",
       "        vertical-align: middle;\n",
       "    }\n",
       "\n",
       "    .dataframe tbody tr th {\n",
       "        vertical-align: top;\n",
       "    }\n",
       "\n",
       "    .dataframe thead th {\n",
       "        text-align: right;\n",
       "    }\n",
       "</style>\n",
       "<table border=\"1\" class=\"dataframe\">\n",
       "  <thead>\n",
       "    <tr style=\"text-align: right;\">\n",
       "      <th></th>\n",
       "      <th>URLs</th>\n",
       "      <th>subdirectory1</th>\n",
       "      <th>subdirectory2</th>\n",
       "      <th>subdirectory3</th>\n",
       "    </tr>\n",
       "  </thead>\n",
       "  <tbody>\n",
       "    <tr>\n",
       "      <th>0</th>\n",
       "      <td>https://www.tradingview.com/support/categories...</td>\n",
       "      <td>support</td>\n",
       "      <td>categories</td>\n",
       "      <td>mobileApps</td>\n",
       "    </tr>\n",
       "    <tr>\n",
       "      <th>1</th>\n",
       "      <td>https://www.tradingview.com/support/folders/43...</td>\n",
       "      <td>support</td>\n",
       "      <td>folders</td>\n",
       "      <td>43000558389-application-installation</td>\n",
       "    </tr>\n",
       "    <tr>\n",
       "      <th>2</th>\n",
       "      <td>https://www.tradingview.com/support/solutions/...</td>\n",
       "      <td>support</td>\n",
       "      <td>solutions</td>\n",
       "      <td>43000506667-where-can-i-download-the-app</td>\n",
       "    </tr>\n",
       "    <tr>\n",
       "      <th>3</th>\n",
       "      <td>https://www.tradingview.com/support/solutions/...</td>\n",
       "      <td>support</td>\n",
       "      <td>solutions</td>\n",
       "      <td>43000506675-i-m-unable-to-download-the-app-sin...</td>\n",
       "    </tr>\n",
       "    <tr>\n",
       "      <th>4</th>\n",
       "      <td>https://www.tradingview.com/support/folders/43...</td>\n",
       "      <td>support</td>\n",
       "      <td>folders</td>\n",
       "      <td>43000558390-application-settings</td>\n",
       "    </tr>\n",
       "  </tbody>\n",
       "</table>\n",
       "</div>"
      ],
      "text/plain": [
       "                                                URLs subdirectory1  \\\n",
       "0  https://www.tradingview.com/support/categories...       support   \n",
       "1  https://www.tradingview.com/support/folders/43...       support   \n",
       "2  https://www.tradingview.com/support/solutions/...       support   \n",
       "3  https://www.tradingview.com/support/solutions/...       support   \n",
       "4  https://www.tradingview.com/support/folders/43...       support   \n",
       "\n",
       "  subdirectory2                                      subdirectory3  \n",
       "0    categories                                         mobileApps  \n",
       "1       folders               43000558389-application-installation  \n",
       "2     solutions           43000506667-where-can-i-download-the-app  \n",
       "3     solutions  43000506675-i-m-unable-to-download-the-app-sin...  \n",
       "4       folders                   43000558390-application-settings  "
      ]
     },
     "metadata": {},
     "output_type": "display_data"
    },
    {
     "name": "stdout",
     "output_type": "stream",
     "text": [
      "Sitemap: sitemap-symbols\n"
     ]
    },
    {
     "data": {
      "text/html": [
       "<div>\n",
       "<style scoped>\n",
       "    .dataframe tbody tr th:only-of-type {\n",
       "        vertical-align: middle;\n",
       "    }\n",
       "\n",
       "    .dataframe tbody tr th {\n",
       "        vertical-align: top;\n",
       "    }\n",
       "\n",
       "    .dataframe thead th {\n",
       "        text-align: right;\n",
       "    }\n",
       "</style>\n",
       "<table border=\"1\" class=\"dataframe\">\n",
       "  <thead>\n",
       "    <tr style=\"text-align: right;\">\n",
       "      <th></th>\n",
       "      <th>URLs</th>\n",
       "      <th>subdirectory1</th>\n",
       "      <th>subdirectory2</th>\n",
       "      <th>subdirectory3</th>\n",
       "    </tr>\n",
       "  </thead>\n",
       "  <tbody>\n",
       "    <tr>\n",
       "      <th>0</th>\n",
       "      <td>https://www.tradingview.com/symbols/OTQIAVAX28...</td>\n",
       "      <td>symbols</td>\n",
       "      <td>OTQIAVAX28DEC2023USDCE_5F973E</td>\n",
       "      <td></td>\n",
       "    </tr>\n",
       "    <tr>\n",
       "      <th>1</th>\n",
       "      <td>https://www.tradingview.com/symbols/OTQIUSDC28...</td>\n",
       "      <td>symbols</td>\n",
       "      <td>OTQIUSDC28DEC2023USDCE_82DB76</td>\n",
       "      <td></td>\n",
       "    </tr>\n",
       "    <tr>\n",
       "      <th>2</th>\n",
       "      <td>https://www.tradingview.com/symbols/OTWMEMO24F...</td>\n",
       "      <td>symbols</td>\n",
       "      <td>OTWMEMO24FEB2022MIM_588DC0</td>\n",
       "      <td></td>\n",
       "    </tr>\n",
       "    <tr>\n",
       "      <th>3</th>\n",
       "      <td>https://www.tradingview.com/symbols/OTWMEMO24F...</td>\n",
       "      <td>symbols</td>\n",
       "      <td>OTWMEMO24FEB2022MIM_588DC0.USD</td>\n",
       "      <td></td>\n",
       "    </tr>\n",
       "    <tr>\n",
       "      <th>4</th>\n",
       "      <td>https://www.tradingview.com/symbols/OTWOGOHM_7...</td>\n",
       "      <td>symbols</td>\n",
       "      <td>OTWOGOHM_7BC256</td>\n",
       "      <td></td>\n",
       "    </tr>\n",
       "  </tbody>\n",
       "</table>\n",
       "</div>"
      ],
      "text/plain": [
       "                                                URLs subdirectory1  \\\n",
       "0  https://www.tradingview.com/symbols/OTQIAVAX28...       symbols   \n",
       "1  https://www.tradingview.com/symbols/OTQIUSDC28...       symbols   \n",
       "2  https://www.tradingview.com/symbols/OTWMEMO24F...       symbols   \n",
       "3  https://www.tradingview.com/symbols/OTWMEMO24F...       symbols   \n",
       "4  https://www.tradingview.com/symbols/OTWOGOHM_7...       symbols   \n",
       "\n",
       "                    subdirectory2 subdirectory3  \n",
       "0   OTQIAVAX28DEC2023USDCE_5F973E                \n",
       "1   OTQIUSDC28DEC2023USDCE_82DB76                \n",
       "2      OTWMEMO24FEB2022MIM_588DC0                \n",
       "3  OTWMEMO24FEB2022MIM_588DC0.USD                \n",
       "4                 OTWOGOHM_7BC256                "
      ]
     },
     "metadata": {},
     "output_type": "display_data"
    },
    {
     "name": "stdout",
     "output_type": "stream",
     "text": [
      "Sitemap: sitemap-tags\n"
     ]
    },
    {
     "data": {
      "text/html": [
       "<div>\n",
       "<style scoped>\n",
       "    .dataframe tbody tr th:only-of-type {\n",
       "        vertical-align: middle;\n",
       "    }\n",
       "\n",
       "    .dataframe tbody tr th {\n",
       "        vertical-align: top;\n",
       "    }\n",
       "\n",
       "    .dataframe thead th {\n",
       "        text-align: right;\n",
       "    }\n",
       "</style>\n",
       "<table border=\"1\" class=\"dataframe\">\n",
       "  <thead>\n",
       "    <tr style=\"text-align: right;\">\n",
       "      <th></th>\n",
       "      <th>URLs</th>\n",
       "      <th>subdirectory1</th>\n",
       "      <th>subdirectory2</th>\n",
       "    </tr>\n",
       "  </thead>\n",
       "  <tbody>\n",
       "    <tr>\n",
       "      <th>0</th>\n",
       "      <td>https://www.tradingview.com/ideas/5-0pattern/</td>\n",
       "      <td>ideas</td>\n",
       "      <td>5-0pattern</td>\n",
       "    </tr>\n",
       "    <tr>\n",
       "      <th>1</th>\n",
       "      <td>https://www.tradingview.com/ideas/abcdpattern/</td>\n",
       "      <td>ideas</td>\n",
       "      <td>abcdpattern</td>\n",
       "    </tr>\n",
       "    <tr>\n",
       "      <th>2</th>\n",
       "      <td>https://www.tradingview.com/ideas/accumulation...</td>\n",
       "      <td>ideas</td>\n",
       "      <td>accumulationdistribution</td>\n",
       "    </tr>\n",
       "    <tr>\n",
       "      <th>3</th>\n",
       "      <td>https://www.tradingview.com/ideas/alligator/</td>\n",
       "      <td>ideas</td>\n",
       "      <td>alligator</td>\n",
       "    </tr>\n",
       "    <tr>\n",
       "      <th>4</th>\n",
       "      <td>https://www.tradingview.com/ideas/ascendingbro...</td>\n",
       "      <td>ideas</td>\n",
       "      <td>ascendingbroadeningwedge</td>\n",
       "    </tr>\n",
       "  </tbody>\n",
       "</table>\n",
       "</div>"
      ],
      "text/plain": [
       "                                                URLs subdirectory1  \\\n",
       "0      https://www.tradingview.com/ideas/5-0pattern/         ideas   \n",
       "1     https://www.tradingview.com/ideas/abcdpattern/         ideas   \n",
       "2  https://www.tradingview.com/ideas/accumulation...         ideas   \n",
       "3       https://www.tradingview.com/ideas/alligator/         ideas   \n",
       "4  https://www.tradingview.com/ideas/ascendingbro...         ideas   \n",
       "\n",
       "              subdirectory2  \n",
       "0                5-0pattern  \n",
       "1               abcdpattern  \n",
       "2  accumulationdistribution  \n",
       "3                 alligator  \n",
       "4  ascendingbroadeningwedge  "
      ]
     },
     "metadata": {},
     "output_type": "display_data"
    },
    {
     "name": "stdout",
     "output_type": "stream",
     "text": [
      "Sitemap: sitemap-timelines\n"
     ]
    },
    {
     "data": {
      "text/html": [
       "<div>\n",
       "<style scoped>\n",
       "    .dataframe tbody tr th:only-of-type {\n",
       "        vertical-align: middle;\n",
       "    }\n",
       "\n",
       "    .dataframe tbody tr th {\n",
       "        vertical-align: top;\n",
       "    }\n",
       "\n",
       "    .dataframe thead th {\n",
       "        text-align: right;\n",
       "    }\n",
       "</style>\n",
       "<table border=\"1\" class=\"dataframe\">\n",
       "  <thead>\n",
       "    <tr style=\"text-align: right;\">\n",
       "      <th></th>\n",
       "      <th>URLs</th>\n",
       "      <th>subdirectory1</th>\n",
       "      <th>subdirectory2</th>\n",
       "      <th>subdirectory3</th>\n",
       "    </tr>\n",
       "  </thead>\n",
       "  <tbody>\n",
       "    <tr>\n",
       "      <th>0</th>\n",
       "      <td>https://www.tradingview.com/symbols/NASDAQ-CAS...</td>\n",
       "      <td>symbols</td>\n",
       "      <td>NASDAQ-CASA</td>\n",
       "      <td>history-timeline</td>\n",
       "    </tr>\n",
       "    <tr>\n",
       "      <th>1</th>\n",
       "      <td>https://www.tradingview.com/symbols/NASDAQ-PTO...</td>\n",
       "      <td>symbols</td>\n",
       "      <td>NASDAQ-PTON</td>\n",
       "      <td>history-timeline</td>\n",
       "    </tr>\n",
       "    <tr>\n",
       "      <th>2</th>\n",
       "      <td>https://www.tradingview.com/symbols/NYSE-GIS/h...</td>\n",
       "      <td>symbols</td>\n",
       "      <td>NYSE-GIS</td>\n",
       "      <td>history-timeline</td>\n",
       "    </tr>\n",
       "    <tr>\n",
       "      <th>3</th>\n",
       "      <td>https://www.tradingview.com/symbols/NASDAQ-DDO...</td>\n",
       "      <td>symbols</td>\n",
       "      <td>NASDAQ-DDOG</td>\n",
       "      <td>history-timeline</td>\n",
       "    </tr>\n",
       "    <tr>\n",
       "      <th>4</th>\n",
       "      <td>https://www.tradingview.com/symbols/NASDAQ-AEM...</td>\n",
       "      <td>symbols</td>\n",
       "      <td>NASDAQ-AEMD</td>\n",
       "      <td>history-timeline</td>\n",
       "    </tr>\n",
       "  </tbody>\n",
       "</table>\n",
       "</div>"
      ],
      "text/plain": [
       "                                                URLs subdirectory1  \\\n",
       "0  https://www.tradingview.com/symbols/NASDAQ-CAS...       symbols   \n",
       "1  https://www.tradingview.com/symbols/NASDAQ-PTO...       symbols   \n",
       "2  https://www.tradingview.com/symbols/NYSE-GIS/h...       symbols   \n",
       "3  https://www.tradingview.com/symbols/NASDAQ-DDO...       symbols   \n",
       "4  https://www.tradingview.com/symbols/NASDAQ-AEM...       symbols   \n",
       "\n",
       "  subdirectory2     subdirectory3  \n",
       "0   NASDAQ-CASA  history-timeline  \n",
       "1   NASDAQ-PTON  history-timeline  \n",
       "2      NYSE-GIS  history-timeline  \n",
       "3   NASDAQ-DDOG  history-timeline  \n",
       "4   NASDAQ-AEMD  history-timeline  "
      ]
     },
     "metadata": {},
     "output_type": "display_data"
    },
    {
     "name": "stdout",
     "output_type": "stream",
     "text": [
      "Sitemap: sitemap\n"
     ]
    },
    {
     "data": {
      "text/html": [
       "<div>\n",
       "<style scoped>\n",
       "    .dataframe tbody tr th:only-of-type {\n",
       "        vertical-align: middle;\n",
       "    }\n",
       "\n",
       "    .dataframe tbody tr th {\n",
       "        vertical-align: top;\n",
       "    }\n",
       "\n",
       "    .dataframe thead th {\n",
       "        text-align: right;\n",
       "    }\n",
       "</style>\n",
       "<table border=\"1\" class=\"dataframe\">\n",
       "  <thead>\n",
       "    <tr style=\"text-align: right;\">\n",
       "      <th></th>\n",
       "      <th>URLs</th>\n",
       "      <th>subdirectory1</th>\n",
       "      <th>subdirectory2</th>\n",
       "      <th>subdirectory3</th>\n",
       "    </tr>\n",
       "  </thead>\n",
       "  <tbody>\n",
       "    <tr>\n",
       "      <th>0</th>\n",
       "      <td>https://www.tradingview.com/sitemaps/www_tradi...</td>\n",
       "      <td>sitemaps</td>\n",
       "      <td>www_tradingview_com</td>\n",
       "      <td>sitemap-base.xml</td>\n",
       "    </tr>\n",
       "    <tr>\n",
       "      <th>1</th>\n",
       "      <td>https://www.tradingview.com/sitemap-news.xml</td>\n",
       "      <td>sitemap-news.xml</td>\n",
       "      <td></td>\n",
       "      <td></td>\n",
       "    </tr>\n",
       "    <tr>\n",
       "      <th>2</th>\n",
       "      <td>https://www.tradingview.com/sitemaps/www_tradi...</td>\n",
       "      <td>sitemaps</td>\n",
       "      <td>www_tradingview_com</td>\n",
       "      <td>sitemap-categories.xml</td>\n",
       "    </tr>\n",
       "    <tr>\n",
       "      <th>3</th>\n",
       "      <td>https://www.tradingview.com/sitemaps/www_tradi...</td>\n",
       "      <td>sitemaps</td>\n",
       "      <td>www_tradingview_com</td>\n",
       "      <td>sitemap-ideas.xml</td>\n",
       "    </tr>\n",
       "    <tr>\n",
       "      <th>4</th>\n",
       "      <td>https://www.tradingview.com/sitemaps/www_tradi...</td>\n",
       "      <td>sitemaps</td>\n",
       "      <td>www_tradingview_com</td>\n",
       "      <td>sitemap-scripts.xml</td>\n",
       "    </tr>\n",
       "  </tbody>\n",
       "</table>\n",
       "</div>"
      ],
      "text/plain": [
       "                                                URLs     subdirectory1  \\\n",
       "0  https://www.tradingview.com/sitemaps/www_tradi...          sitemaps   \n",
       "1       https://www.tradingview.com/sitemap-news.xml  sitemap-news.xml   \n",
       "2  https://www.tradingview.com/sitemaps/www_tradi...          sitemaps   \n",
       "3  https://www.tradingview.com/sitemaps/www_tradi...          sitemaps   \n",
       "4  https://www.tradingview.com/sitemaps/www_tradi...          sitemaps   \n",
       "\n",
       "         subdirectory2           subdirectory3  \n",
       "0  www_tradingview_com        sitemap-base.xml  \n",
       "1                                               \n",
       "2  www_tradingview_com  sitemap-categories.xml  \n",
       "3  www_tradingview_com       sitemap-ideas.xml  \n",
       "4  www_tradingview_com     sitemap-scripts.xml  "
      ]
     },
     "metadata": {},
     "output_type": "display_data"
    }
   ],
   "source": [
    "# Display the DataFrames created from sitemaps\n",
    "for key, df in parser.sitemap_dataframes.items():\n",
    "    print(f\"Sitemap: {key}\")\n",
    "    display(df.head())  # Show the first few rows of each DataFrame\n"
   ]
  },
  {
   "cell_type": "markdown",
   "metadata": {},
   "source": [
    "### Extracting Subdirectories from URLs\n",
    "\n",
    "After parsing the sitemaps and storing the URLs in DataFrames, we take an additional step to extract the subdirectories from each URL. This process involves analyzing each URL and breaking it down into its constituent parts. For example, a URL like `https://www.tradingview.com/ideas/` is broken down into `['ideas']`.\n",
    "\n",
    "The extraction of subdirectories is vital for several reasons:\n",
    "\n",
    "1. **Enhanced Analysis:** It allows us to analyze the structure of the website in more detail, understanding how the content is categorized.\n",
    "2. **Data Enrichment:** This step enriches our dataset by providing more specific information about each URL, which can be crucial for in-depth web analysis.\n",
    "3. **Preparation for Advanced Tasks:** With detailed breakdowns, the data is better prepared for advanced tasks like machine learning algorithms that might require granular features.\n",
    "\n",
    "Below, we demonstrate this process using one of the parsed sitemaps.\n"
   ]
  },
  {
   "cell_type": "code",
   "execution_count": 6,
   "metadata": {},
   "outputs": [
    {
     "name": "stdout",
     "output_type": "stream",
     "text": [
      "DataFrame Before Extracting Subdirectories:\n"
     ]
    },
    {
     "data": {
      "text/html": [
       "<div>\n",
       "<style scoped>\n",
       "    .dataframe tbody tr th:only-of-type {\n",
       "        vertical-align: middle;\n",
       "    }\n",
       "\n",
       "    .dataframe tbody tr th {\n",
       "        vertical-align: top;\n",
       "    }\n",
       "\n",
       "    .dataframe thead th {\n",
       "        text-align: right;\n",
       "    }\n",
       "</style>\n",
       "<table border=\"1\" class=\"dataframe\">\n",
       "  <thead>\n",
       "    <tr style=\"text-align: right;\">\n",
       "      <th></th>\n",
       "      <th>URLs</th>\n",
       "      <th>subdirectory1</th>\n",
       "      <th>subdirectory2</th>\n",
       "      <th>subdirectory3</th>\n",
       "      <th>subdirectory4</th>\n",
       "    </tr>\n",
       "  </thead>\n",
       "  <tbody>\n",
       "    <tr>\n",
       "      <th>0</th>\n",
       "      <td>https://www.tradingview.com/chart/EURUSD/aX3kC...</td>\n",
       "      <td>chart</td>\n",
       "      <td>EURUSD</td>\n",
       "      <td>aX3kCqrE-10-more-things-I-learned-in-my-short-...</td>\n",
       "      <td></td>\n",
       "    </tr>\n",
       "    <tr>\n",
       "      <th>1</th>\n",
       "      <td>https://www.tradingview.com/chart/BTCUSD/7GCqP...</td>\n",
       "      <td>chart</td>\n",
       "      <td>BTCUSD</td>\n",
       "      <td>7GCqPZBy-Bitcoin-Long-Term-4-year-cycle-fractal</td>\n",
       "      <td></td>\n",
       "    </tr>\n",
       "    <tr>\n",
       "      <th>2</th>\n",
       "      <td>https://www.tradingview.com/chart/GME/EQu6xcC3...</td>\n",
       "      <td>chart</td>\n",
       "      <td>GME</td>\n",
       "      <td>EQu6xcC3-GME-is-bound-to-pop-A-technical-funda...</td>\n",
       "      <td></td>\n",
       "    </tr>\n",
       "    <tr>\n",
       "      <th>3</th>\n",
       "      <td>https://www.tradingview.com/chart/GME/vElShFpa...</td>\n",
       "      <td>chart</td>\n",
       "      <td>GME</td>\n",
       "      <td>vElShFpa-Michael-Burry-The-Big-Short-squeeze-500</td>\n",
       "      <td></td>\n",
       "    </tr>\n",
       "    <tr>\n",
       "      <th>4</th>\n",
       "      <td>https://www.tradingview.com/chart/BTCUSD/Ra2xQ...</td>\n",
       "      <td>chart</td>\n",
       "      <td>BTCUSD</td>\n",
       "      <td>Ra2xQeBx-The-fascinating-history-of-derivatives</td>\n",
       "      <td></td>\n",
       "    </tr>\n",
       "  </tbody>\n",
       "</table>\n",
       "</div>"
      ],
      "text/plain": [
       "                                                URLs subdirectory1  \\\n",
       "0  https://www.tradingview.com/chart/EURUSD/aX3kC...         chart   \n",
       "1  https://www.tradingview.com/chart/BTCUSD/7GCqP...         chart   \n",
       "2  https://www.tradingview.com/chart/GME/EQu6xcC3...         chart   \n",
       "3  https://www.tradingview.com/chart/GME/vElShFpa...         chart   \n",
       "4  https://www.tradingview.com/chart/BTCUSD/Ra2xQ...         chart   \n",
       "\n",
       "  subdirectory2                                      subdirectory3  \\\n",
       "0        EURUSD  aX3kCqrE-10-more-things-I-learned-in-my-short-...   \n",
       "1        BTCUSD    7GCqPZBy-Bitcoin-Long-Term-4-year-cycle-fractal   \n",
       "2           GME  EQu6xcC3-GME-is-bound-to-pop-A-technical-funda...   \n",
       "3           GME   vElShFpa-Michael-Burry-The-Big-Short-squeeze-500   \n",
       "4        BTCUSD    Ra2xQeBx-The-fascinating-history-of-derivatives   \n",
       "\n",
       "  subdirectory4  \n",
       "0                \n",
       "1                \n",
       "2                \n",
       "3                \n",
       "4                "
      ]
     },
     "metadata": {},
     "output_type": "display_data"
    },
    {
     "name": "stdout",
     "output_type": "stream",
     "text": [
      "\n",
      "DataFrame After Extracting Subdirectories:\n"
     ]
    },
    {
     "data": {
      "text/html": [
       "<div>\n",
       "<style scoped>\n",
       "    .dataframe tbody tr th:only-of-type {\n",
       "        vertical-align: middle;\n",
       "    }\n",
       "\n",
       "    .dataframe tbody tr th {\n",
       "        vertical-align: top;\n",
       "    }\n",
       "\n",
       "    .dataframe thead th {\n",
       "        text-align: right;\n",
       "    }\n",
       "</style>\n",
       "<table border=\"1\" class=\"dataframe\">\n",
       "  <thead>\n",
       "    <tr style=\"text-align: right;\">\n",
       "      <th></th>\n",
       "      <th>URLs</th>\n",
       "      <th>subdirectory1</th>\n",
       "      <th>subdirectory2</th>\n",
       "      <th>subdirectory3</th>\n",
       "      <th>subdirectory4</th>\n",
       "    </tr>\n",
       "  </thead>\n",
       "  <tbody>\n",
       "    <tr>\n",
       "      <th>0</th>\n",
       "      <td>https://www.tradingview.com/chart/EURUSD/aX3kC...</td>\n",
       "      <td>chart</td>\n",
       "      <td>EURUSD</td>\n",
       "      <td>aX3kCqrE-10-more-things-I-learned-in-my-short-...</td>\n",
       "      <td></td>\n",
       "    </tr>\n",
       "    <tr>\n",
       "      <th>1</th>\n",
       "      <td>https://www.tradingview.com/chart/BTCUSD/7GCqP...</td>\n",
       "      <td>chart</td>\n",
       "      <td>BTCUSD</td>\n",
       "      <td>7GCqPZBy-Bitcoin-Long-Term-4-year-cycle-fractal</td>\n",
       "      <td></td>\n",
       "    </tr>\n",
       "    <tr>\n",
       "      <th>2</th>\n",
       "      <td>https://www.tradingview.com/chart/GME/EQu6xcC3...</td>\n",
       "      <td>chart</td>\n",
       "      <td>GME</td>\n",
       "      <td>EQu6xcC3-GME-is-bound-to-pop-A-technical-funda...</td>\n",
       "      <td></td>\n",
       "    </tr>\n",
       "    <tr>\n",
       "      <th>3</th>\n",
       "      <td>https://www.tradingview.com/chart/GME/vElShFpa...</td>\n",
       "      <td>chart</td>\n",
       "      <td>GME</td>\n",
       "      <td>vElShFpa-Michael-Burry-The-Big-Short-squeeze-500</td>\n",
       "      <td></td>\n",
       "    </tr>\n",
       "    <tr>\n",
       "      <th>4</th>\n",
       "      <td>https://www.tradingview.com/chart/BTCUSD/Ra2xQ...</td>\n",
       "      <td>chart</td>\n",
       "      <td>BTCUSD</td>\n",
       "      <td>Ra2xQeBx-The-fascinating-history-of-derivatives</td>\n",
       "      <td></td>\n",
       "    </tr>\n",
       "  </tbody>\n",
       "</table>\n",
       "</div>"
      ],
      "text/plain": [
       "                                                URLs subdirectory1  \\\n",
       "0  https://www.tradingview.com/chart/EURUSD/aX3kC...         chart   \n",
       "1  https://www.tradingview.com/chart/BTCUSD/7GCqP...         chart   \n",
       "2  https://www.tradingview.com/chart/GME/EQu6xcC3...         chart   \n",
       "3  https://www.tradingview.com/chart/GME/vElShFpa...         chart   \n",
       "4  https://www.tradingview.com/chart/BTCUSD/Ra2xQ...         chart   \n",
       "\n",
       "  subdirectory2                                      subdirectory3  \\\n",
       "0        EURUSD  aX3kCqrE-10-more-things-I-learned-in-my-short-...   \n",
       "1        BTCUSD    7GCqPZBy-Bitcoin-Long-Term-4-year-cycle-fractal   \n",
       "2           GME  EQu6xcC3-GME-is-bound-to-pop-A-technical-funda...   \n",
       "3           GME   vElShFpa-Michael-Burry-The-Big-Short-squeeze-500   \n",
       "4        BTCUSD    Ra2xQeBx-The-fascinating-history-of-derivatives   \n",
       "\n",
       "  subdirectory4  \n",
       "0                \n",
       "1                \n",
       "2                \n",
       "3                \n",
       "4                "
      ]
     },
     "metadata": {},
     "output_type": "display_data"
    }
   ],
   "source": [
    "# Display the DataFrame before extracting subdirectories\n",
    "print(\"DataFrame Before Extracting Subdirectories:\")\n",
    "display(parser.sitemap_dataframes['sitemap-ideas'].head())\n",
    "\n",
    "# Assuming the extraction method is already applied in the parsing process\n",
    "# Display the DataFrame after extracting subdirectories\n",
    "print(\"\\nDataFrame After Extracting Subdirectories:\")\n",
    "display(parser.sitemap_dataframes['sitemap-ideas'].head())\n"
   ]
  },
  {
   "cell_type": "markdown",
   "metadata": {},
   "source": [
    "### Saving Parsed Data as CSV Files\n",
    "\n",
    "After parsing the sitemaps and enriching the data by extracting subdirectories, the next crucial step is to save this structured data for future use. We accomplish this by saving the DataFrames as CSV files. Storing data in CSV format offers several advantages:\n",
    "\n",
    "1. **Compatibility:** CSV files are widely supported and can be used in various tools and platforms, enhancing accessibility.\n",
    "2. **Persistence:** It ensures that our parsed data is preserved in a non-volatile format, making it readily available for future analyses without the need to re-parse the website.\n",
    "3. **Convenience:** CSV files provide an easy way to share data and collaborate with others who might not use Python.\n",
    "\n",
    "In the following code, we demonstrate how to save these DataFrames as CSV files using the `save_as_csv` method of our `SitemapParser` class.\n"
   ]
  },
  {
   "cell_type": "code",
   "execution_count": 7,
   "metadata": {},
   "outputs": [
    {
     "name": "stdout",
     "output_type": "stream",
     "text": [
      "Saved: sitemaps\\sitemap-base.csv\n",
      "Saved: sitemaps\\sitemap-news.csv\n",
      "Saved: sitemaps\\sitemap-categories.csv\n",
      "Saved: sitemaps\\sitemap-ideas.csv\n",
      "Saved: sitemaps\\sitemap-scripts.csv\n",
      "Saved: sitemaps\\sitemap-sparks.csv\n",
      "Saved: sitemaps\\sitemap-support.csv\n",
      "Saved: sitemaps\\sitemap-symbols.csv\n",
      "Saved: sitemaps\\sitemap-tags.csv\n",
      "Saved: sitemaps\\sitemap-timelines.csv\n",
      "Saved: sitemaps\\sitemap.csv\n"
     ]
    }
   ],
   "source": [
    "# Save the DataFrames as CSV files in the 'sitemaps' directory\n",
    "parser.save_as_csv()\n"
   ]
  },
  {
   "cell_type": "markdown",
   "metadata": {},
   "source": [
    "### Conclusion for Task1:  XML Parsing for www.tradingview.com\n",
    "\n",
    "This notebook demonstrated the process of extracting and parsing XML sitemaps from `www.tradingview.com`, a comprehensive approach that involved fetching sitemap URLs, parsing them, and organizing the data into structured pandas DataFrames. By extracting subdirectories and saving the data as CSV files, we have prepared a dataset that is not only insightful for understanding the website's structure but also ready for further analysis and machine learning applications.\n",
    "\n",
    "This task underscores the importance of web data handling skills in data analytics and visualization, showcasing how raw web data can be transformed into a structured and analyzable format.\n"
   ]
  },
  {
   "cell_type": "markdown",
   "metadata": {},
   "source": [
    "## Stock Data Analysis Using Alpha Vantage API\n",
    "\n",
    "### Introduction\n",
    "\n",
    "Now we focuse on retrieving and analyzing stock data using the Alpha Vantage API, a powerful tool for accessing real-time and historical financial data. We will utilize the `StockDataCollector` class, developed in Python, to interact with this API and fetch intraday stock data.\n",
    "\n",
    "The primary objective is to demonstrate how to effectively use an external API to gather financial data, transform it into a structured format using pandas, and perform preliminary data analysis. This task is part of Project 2 in the DAV 5400 course, aiming to enhance our skills in working with web data for analytics and machine learning applications.\n",
    "\n",
    "The Alpha Vantage API provides a range of options for stock data, including intraday time series. Here, we'll focus on fetching and analyzing intraday data for a chosen stock symbol."
   ]
  },
  {
   "cell_type": "markdown",
   "metadata": {},
   "source": [
    "### Environment Setup\n",
    "\n",
    "To prepare for data collection from the Alpha Vantage API, we will first set up our environment by importing necessary libraries and modules. This includes our `StockDataCollector` class from the Python package we've created, which will handle the API interactions and data retrieval.\n"
   ]
  },
  {
   "cell_type": "code",
   "execution_count": 7,
   "metadata": {},
   "outputs": [],
   "source": [
    "# Import necessary libraries\n",
    "import os\n",
    "import pandas as pd\n",
    "\n",
    "# Import the StockDataCollector class from our package\n",
    "from src.my_package.stock_data_collector import StockDataCollector\n",
    "\n"
   ]
  },
  {
   "cell_type": "markdown",
   "metadata": {},
   "source": [
    "### API Configuration\n",
    "\n",
    "Here, we'll configure our API access by specifying the API key and the stock symbol. The API key should be kept confidential, hence it is stored as an environment variable and retrieved securely within the notebook.\n"
   ]
  },
  {
   "cell_type": "code",
   "execution_count": 8,
   "metadata": {},
   "outputs": [],
   "source": [
    "# Retrieve the API key from an environment variable\n",
    "API_KEY = os.environ.get('ALPHA_VANTAGE_API_KEY')\n",
    "if not API_KEY:\n",
    "    raise ValueError(\"No API key found. Please set the ALPHA_VANTAGE_API_KEY environment variable.\")\n",
    "\n",
    "STOCK_SYMBOL = 'IBM'  # Example stock symbol for IBM Inc.\n",
    "\n"
   ]
  },
  {
   "cell_type": "markdown",
   "metadata": {},
   "source": [
    "### Initializing the Data Collector and Fetching Data\n",
    "\n",
    "Next, we initialize the `StockDataCollector` with our specified API key and stock symbol. This class is designed to handle the API requests and will be used to retrieve intraday stock data, which provides stock prices at different times throughout the trading day. Let's proceed to fetch the data and verify its successful retrieval.\n"
   ]
  },
  {
   "cell_type": "code",
   "execution_count": 9,
   "metadata": {},
   "outputs": [
    {
     "name": "stdout",
     "output_type": "stream",
     "text": [
      "Failed to fetch stock data. Please check the API key and the stock symbol.\n"
     ]
    }
   ],
   "source": [
    "# Initialize the StockDataCollector with the API key and stock symbol\n",
    "stock_collector = StockDataCollector(API_KEY, STOCK_SYMBOL)\n",
    "\n",
    "# Fetch the intraday stock data using the class\n",
    "intraday_data = stock_collector.fetch_intraday_data()\n",
    "\n",
    "# Check if the data was fetched successfully by looking for the expected 'Time Series' key\n",
    "if intraday_data and \"Time Series\" in intraday_data:\n",
    "    print(\"Stock data fetched successfully!\")\n",
    "    # Optional: Add a check for the expected length of the time series data\n",
    "    time_series_key = next(iter(intraday_data.keys()))\n",
    "    if time_series_key.startswith(\"Time Series\"):\n",
    "        print(f\"Data points retrieved: {len(intraday_data[time_series_key])}\")\n",
    "else:\n",
    "    print(\"Failed to fetch stock data. Please check the API key and the stock symbol.\")\n",
    "\n"
   ]
  },
  {
   "cell_type": "markdown",
   "metadata": {},
   "source": [
    "### Data Conversion to DataFrame\n",
    "\n",
    "To facilitate our analysis, we convert the JSON response received from Alpha Vantage into a pandas DataFrame. This provides us with a tabular representation of the intraday stock data, which is more accessible and easier to work with for our subsequent data manipulation and analysis tasks.\n",
    "\n",
    "The DataFrame will include the following columns: 'Open' (the price at which the stock opened), 'High' (the highest price during the interval), 'Low' (the lowest price during the interval), 'Close' (the closing price at the end of the interval), and 'Volume' (the number of shares traded during the interval).\n"
   ]
  },
  {
   "cell_type": "code",
   "execution_count": 10,
   "metadata": {},
   "outputs": [
    {
     "data": {
      "text/html": [
       "<div>\n",
       "<style scoped>\n",
       "    .dataframe tbody tr th:only-of-type {\n",
       "        vertical-align: middle;\n",
       "    }\n",
       "\n",
       "    .dataframe tbody tr th {\n",
       "        vertical-align: top;\n",
       "    }\n",
       "\n",
       "    .dataframe thead th {\n",
       "        text-align: right;\n",
       "    }\n",
       "</style>\n",
       "<table border=\"1\" class=\"dataframe\">\n",
       "  <thead>\n",
       "    <tr style=\"text-align: right;\">\n",
       "      <th></th>\n",
       "      <th>Open</th>\n",
       "      <th>High</th>\n",
       "      <th>Low</th>\n",
       "      <th>Close</th>\n",
       "      <th>Volume</th>\n",
       "    </tr>\n",
       "  </thead>\n",
       "  <tbody>\n",
       "    <tr>\n",
       "      <th>2023-11-24 17:00:00</th>\n",
       "      <td>155.18</td>\n",
       "      <td>155.18</td>\n",
       "      <td>155.18</td>\n",
       "      <td>155.18</td>\n",
       "      <td>335049</td>\n",
       "    </tr>\n",
       "    <tr>\n",
       "      <th>2023-11-24 16:55:00</th>\n",
       "      <td>155.11</td>\n",
       "      <td>155.18</td>\n",
       "      <td>155.11</td>\n",
       "      <td>155.18</td>\n",
       "      <td>40</td>\n",
       "    </tr>\n",
       "    <tr>\n",
       "      <th>2023-11-24 16:50:00</th>\n",
       "      <td>155.10</td>\n",
       "      <td>155.10</td>\n",
       "      <td>155.10</td>\n",
       "      <td>155.10</td>\n",
       "      <td>1</td>\n",
       "    </tr>\n",
       "    <tr>\n",
       "      <th>2023-11-24 16:40:00</th>\n",
       "      <td>155.05</td>\n",
       "      <td>155.05</td>\n",
       "      <td>155.05</td>\n",
       "      <td>155.05</td>\n",
       "      <td>40</td>\n",
       "    </tr>\n",
       "    <tr>\n",
       "      <th>2023-11-24 16:35:00</th>\n",
       "      <td>155.15</td>\n",
       "      <td>155.15</td>\n",
       "      <td>155.15</td>\n",
       "      <td>155.15</td>\n",
       "      <td>100</td>\n",
       "    </tr>\n",
       "  </tbody>\n",
       "</table>\n",
       "</div>"
      ],
      "text/plain": [
       "                       Open    High     Low   Close  Volume\n",
       "2023-11-24 17:00:00  155.18  155.18  155.18  155.18  335049\n",
       "2023-11-24 16:55:00  155.11  155.18  155.11  155.18      40\n",
       "2023-11-24 16:50:00  155.10  155.10  155.10  155.10       1\n",
       "2023-11-24 16:40:00  155.05  155.05  155.05  155.05      40\n",
       "2023-11-24 16:35:00  155.15  155.15  155.15  155.15     100"
      ]
     },
     "metadata": {},
     "output_type": "display_data"
    }
   ],
   "source": [
    "\n",
    "# Check if the intraday data was fetched successfully before converting to DataFrame\n",
    "if intraday_data is not None:\n",
    "    stock_df = stock_collector.get_stock_dataframe()\n",
    "    # Display the first few rows of the DataFrame to ensure it looks correct\n",
    "    display(stock_df.head())\n",
    "else:\n",
    "    print(\"Data fetching was unsuccessful. DataFrame will not be created.\")\n"
   ]
  },
  {
   "cell_type": "markdown",
   "metadata": {},
   "source": [
    "### Initial Data Exploration\n",
    "\n",
    "Before diving into deeper analysis, it's important to perform initial exploratory data analysis (EDA) to understand the dataset's structure and integrity. This includes checking for completeness of the data, understanding the types of data we're dealing with, and identifying any immediate data quality issues. The following steps are part of the EDA:\n",
    "\n",
    "1. Use `.info()` to get a concise summary of the DataFrame, which helps us to quickly understand the types of data and if there are any missing values.\n",
    "2. Apply `.describe()` to view the central tendency, dispersion, and shape of the dataset's distribution, excluding NaN values.\n",
    "3. Execute `.isnull().sum()` to explicitly check for and count missing values in each column.\n"
   ]
  },
  {
   "cell_type": "code",
   "execution_count": 11,
   "metadata": {},
   "outputs": [
    {
     "name": "stdout",
     "output_type": "stream",
     "text": [
      "<class 'pandas.core.frame.DataFrame'>\n",
      "DatetimeIndex: 100 entries, 2023-11-24 17:00:00 to 2023-11-24 06:20:00\n",
      "Data columns (total 5 columns):\n",
      " #   Column  Non-Null Count  Dtype  \n",
      "---  ------  --------------  -----  \n",
      " 0   Open    100 non-null    float64\n",
      " 1   High    100 non-null    float64\n",
      " 2   Low     100 non-null    float64\n",
      " 3   Close   100 non-null    float64\n",
      " 4   Volume  100 non-null    int64  \n",
      "dtypes: float64(4), int64(1)\n",
      "memory usage: 4.7 KB\n",
      "Open      0\n",
      "High      0\n",
      "Low       0\n",
      "Close     0\n",
      "Volume    0\n",
      "dtype: int64\n"
     ]
    }
   ],
   "source": [
    "# Display the summary information of the DataFrame\n",
    "stock_df.info()\n",
    "\n",
    "# Display statistical summary of the DataFrame for numerical columns\n",
    "stock_df.describe()\n",
    "\n",
    "# Check for missing values in each column of the DataFrame\n",
    "missing_values = stock_df.isnull().sum()\n",
    "print(missing_values)"
   ]
  },
  {
   "cell_type": "markdown",
   "metadata": {},
   "source": [
    "### Data Verification\n",
    "\n",
    "Upon inspecting the DataFrame, we confirmed that it consists of 100 entries, with each row corresponding to a 5-minute interval of stock trading data for the symbol 'IBM'. The dataset is complete with no missing values, ensuring its reliability for further analysis.\n",
    "\n",
    "The data types are well-suited for financial analysis, with numerical types representing stock prices and volumes. We are now poised to delve deeper into the dataset, which could include visualizing trends, performing statistical analysis, or using the data for predictive modeling.\n",
    "\n",
    "Next, we'll visualize the closing prices to get a sense of the stock's intraday movement.\n"
   ]
  },
  {
   "cell_type": "code",
   "execution_count": 8,
   "metadata": {},
   "outputs": [
    {
     "data": {
      "image/png": "[encoded data removed]",
      "text/plain": [
       "<Figure size 1400x700 with 1 Axes>"
      ]
     },
     "metadata": {},
     "output_type": "display_data"
    }
   ],
   "source": [
    "import matplotlib.pyplot as plt\n",
    "\n",
    "# Plot the closing prices using a line chart\n",
    "plt.figure(figsize=(14, 7))\n",
    "plt.plot(stock_df.index, stock_df['Close'], label='Close Price', color='blue', linewidth=2)\n",
    "plt.title('Intraday Close Price of IBM')\n",
    "plt.xlabel('Time')\n",
    "plt.ylabel('Price (USD)')\n",
    "plt.legend()\n",
    "plt.grid(True)\n",
    "plt.show()\n"
   ]
  },
  {
   "cell_type": "markdown",
   "metadata": {},
   "source": [
    "### Conclusion for Task2: Using an API to collect Stock Data\n",
    "\n",
    "The `StockDataCollector` class has successfully facilitated the retrieval and structuring of stock data from the Alpha Vantage API. Throughout this notebook, we've outlined a clear approach for obtaining intraday stock data, explored the initial dataset, and provided a visual representation of the stock's closing price movement.\n",
    "\n",
    "For future work, we could expand our analysis to include comparisons between different stocks, compute technical indicators for more advanced trading strategies, or develop machine learning models for price prediction. The collected data provides a solid foundation for such endeavors, and the `StockDataCollector` class can be easily extended or integrated into broader financial analysis pipelines.\n"
   ]
  },
  {
   "cell_type": "code",
   "execution_count": null,
   "metadata": {},
   "outputs": [
    {
     "name": "stdout",
     "output_type": "stream",
     "text": [
      "Data saved to 'stock_data.csv'.\n"
     ]
    }
   ],
   "source": [
    "# Save the DataFrame to a CSV file\n",
    "stock_df.to_csv('stock_data.csv', index=False)  # 'stock_data.csv' is the file name\n",
    "print(\"Data saved to 'stock_data.csv'.\")"
   ]
  },
  {
   "cell_type": "markdown",
   "metadata": {},
   "source": [
    "\n",
    "## WEb Scraping \n",
    "\n",
    "We will shift out focus now on the process of web scraping for Project 2 - Task 3. The focus is on extracting business informations listed on the site \"https://www.yellowpagesnepal.com/\"\n",
    " \n",
    "\n",
    "We will proceed with following plans:\n",
    "- Setup and import of scraping modules\n",
    "- Initialization and use of the `LinkScraper` class to collect relevant links\n",
    "- Utilization of the `DataScraper` class to extract detailed information\n",
    "- Initial data exploration to understand the dataset\n",
    "- Discussion of the dataset's potential applications and the meaning of its fields\n",
    "\n",
    "The code repository for this project can be found at [https://github.com/anuzz999/DAV-5400](#).\n",
    "\n",
    "**Please note**: Web scraping has been conducted in accordance with the website's `robots.txt` file and terms of service, ensuring that scraping is permitted.\n"
   ]
  },
  {
   "cell_type": "markdown",
   "metadata": {},
   "source": [
    "### Setup\n",
    "\n",
    "To begin scraping, we need to set up our environment. This involves importing the custom scraping classes we've defined in our Python package. We'll also establish any initial parameters required for the scraping process, such as the base URL of the website we intend to scrape and any specific class names that guide the scraping process.\n",
    "\n",
    "The `LinkScraper` class will gather the necessary links from the website, and the `DataScraper` class will extract detailed data from each page linked. These classes are part of a Python package named 'my_scraping_package', which is structured as an installable package.\n"
   ]
  },
  {
   "cell_type": "code",
   "execution_count": 10,
   "metadata": {},
   "outputs": [],
   "source": [
    "# Import the necessary libraries and modules\n",
    "from src.my_package.webscraping import LinkScraper, DataScraper\n",
    "import pandas as pd\n",
    "\n",
    "# Defining the base URL of the website we will be scraping\n",
    "base_url = 'https://www.yellowpagesnepal.com/'\n",
    "\n",
    "\n"
   ]
  },
  {
   "cell_type": "markdown",
   "metadata": {},
   "source": [
    "### Initializing the LinkScraper\n",
    "\n",
    "Now that our environment is set up, we can begin the scraping process. The first step is to initialize our `LinkScraper` class, which is designed to navigate through the website and collect all relevant links. These links will be the targets for our detailed data scraping later on.\n"
   ]
  },
  {
   "cell_type": "markdown",
   "metadata": {},
   "source": [
    "### Specifying Class Names for Scraping\n",
    "\n",
    "In accordance with the project guidelines, I will now specify the class names corresponding to the sections of the website that contain the data of interest. These class names have been determined by inspecting the website's HTML structure and identifying the containers that hold the relevant data.\n",
    "\n",
    "This targeted approach allows us to collect a dataset with specific information that we will describe and analyze. The chosen dataset is unique within the class and will be used to answer several questions related to [describe the type of analysis or questions of interest].\n"
   ]
  },
  {
   "cell_type": "code",
   "execution_count": null,
   "metadata": {},
   "outputs": [
    {
     "data": {
      "text/html": [
       "<div>\n",
       "<style scoped>\n",
       "    .dataframe tbody tr th:only-of-type {\n",
       "        vertical-align: middle;\n",
       "    }\n",
       "\n",
       "    .dataframe tbody tr th {\n",
       "        vertical-align: top;\n",
       "    }\n",
       "\n",
       "    .dataframe thead th {\n",
       "        text-align: right;\n",
       "    }\n",
       "</style>\n",
       "<table border=\"1\" class=\"dataframe\">\n",
       "  <thead>\n",
       "    <tr style=\"text-align: right;\">\n",
       "      <th></th>\n",
       "      <th>Link</th>\n",
       "    </tr>\n",
       "  </thead>\n",
       "  <tbody>\n",
       "    <tr>\n",
       "      <th>0</th>\n",
       "      <td>https://www.yellowpagesnepal.com/abhi-raj-thre...</td>\n",
       "    </tr>\n",
       "    <tr>\n",
       "      <th>1</th>\n",
       "      <td>https://www.yellowpagesnepal.com/dowellsonic</td>\n",
       "    </tr>\n",
       "    <tr>\n",
       "      <th>2</th>\n",
       "      <td>https://www.yellowpagesnepal.com/puantistres</td>\n",
       "    </tr>\n",
       "    <tr>\n",
       "      <th>3</th>\n",
       "      <td>https://www.yellowpagesnepal.com/bahuvida-limited</td>\n",
       "    </tr>\n",
       "    <tr>\n",
       "      <th>4</th>\n",
       "      <td>https://www.yellowpagesnepal.com/nylon2018</td>\n",
       "    </tr>\n",
       "  </tbody>\n",
       "</table>\n",
       "</div>"
      ],
      "text/plain": [
       "                                                Link\n",
       "0  https://www.yellowpagesnepal.com/abhi-raj-thre...\n",
       "1       https://www.yellowpagesnepal.com/dowellsonic\n",
       "2       https://www.yellowpagesnepal.com/puantistres\n",
       "3  https://www.yellowpagesnepal.com/bahuvida-limited\n",
       "4         https://www.yellowpagesnepal.com/nylon2018"
      ]
     },
     "metadata": {},
     "output_type": "display_data"
    }
   ],
   "source": [
    "# Specify the class names that contain the data we want to scrape\n",
    "class_names = ['cat-content', 'filter-content ml-3', 'paging', 'add-image']\n",
    "\n",
    "# Initialize the LinkScraper with the base URL and the specified class names\n",
    "scraper = LinkScraper(base_url, class_names)\n",
    "\n",
    "# Perform the scraping process and collect the links\n",
    "links_df = scraper.get_dataframe()\n",
    "\n",
    "# Display the first few rows of the DataFrame\n",
    "links_df.head()\n",
    "\n"
   ]
  },
  {
   "cell_type": "markdown",
   "metadata": {},
   "source": [
    "### Detailed Data Extraction\n",
    "\n",
    "With the list of relevant links in hand, the next step is to extract detailed information from each linked page. The `DataScraper` class is designed for this purpose. It will visit each URL we collected and parse the page's content to extract the data fields we are interested in, such as business names, addresses, contact information, and any other details provided on the page.\n",
    "\n",
    "This extracted data will form the basis of our dataset, which will be used to answer questions regarding [insert the types of questions or analysis you plan to conduct with the data, such as business distribution, contact information availability, etc.].\n"
   ]
  },
  {
   "cell_type": "code",
   "execution_count": null,
   "metadata": {},
   "outputs": [
    {
     "name": "stdout",
     "output_type": "stream",
     "text": [
      "Scraping https://www.yellowpagesnepal.com/abhi-raj-thresher-manufacturers-and-treders\n",
      "Scraping https://www.yellowpagesnepal.com/dowellsonic\n",
      "Scraping https://www.yellowpagesnepal.com/puantistres\n",
      "Scraping https://www.yellowpagesnepal.com/bahuvida-limited\n",
      "Scraping https://www.yellowpagesnepal.com/nylon2018\n",
      "Scraping https://www.yellowpagesnepal.com/butwal-krishi-yantra-ghar\n",
      "Scraping https://www.yellowpagesnepal.com/1\n",
      "Scraping https://www.yellowpagesnepal.com/shengzhou-fusheng-machinery-and-electrics\n",
      "Scraping https://www.yellowpagesnepal.com/comeonbaby1\n",
      "Scraping https://www.yellowpagesnepal.com/zhejiang-jinxia-new-material-technology-co-ltd\n"
     ]
    },
    {
     "data": {
      "text/html": [
       "<div>\n",
       "<style scoped>\n",
       "    .dataframe tbody tr th:only-of-type {\n",
       "        vertical-align: middle;\n",
       "    }\n",
       "\n",
       "    .dataframe tbody tr th {\n",
       "        vertical-align: top;\n",
       "    }\n",
       "\n",
       "    .dataframe thead th {\n",
       "        text-align: right;\n",
       "    }\n",
       "</style>\n",
       "<table border=\"1\" class=\"dataframe\">\n",
       "  <thead>\n",
       "    <tr style=\"text-align: right;\">\n",
       "      <th></th>\n",
       "      <th>updated_date</th>\n",
       "      <th>views</th>\n",
       "      <th>description</th>\n",
       "      <th>phone</th>\n",
       "      <th>email</th>\n",
       "      <th>website</th>\n",
       "      <th>reviews</th>\n",
       "      <th>related_categories</th>\n",
       "      <th>postal_code</th>\n",
       "      <th>fax_number</th>\n",
       "    </tr>\n",
       "  </thead>\n",
       "  <tbody>\n",
       "    <tr>\n",
       "      <th>0</th>\n",
       "      <td>Oct 20, 2017</td>\n",
       "      <td>3158</td>\n",
       "      <td>We are manufacturer of multi crop thresher and...</td>\n",
       "      <td>91-9587969826</td>\n",
       "      <td>Abhijitpandey555@gmail.com</td>\n",
       "      <td></td>\n",
       "      <td>No review posted</td>\n",
       "      <td>Agricultural Equipment &amp; Implements</td>\n",
       "      <td></td>\n",
       "      <td></td>\n",
       "    </tr>\n",
       "    <tr>\n",
       "      <th>1</th>\n",
       "      <td>Dec 21, 2017</td>\n",
       "      <td>2525</td>\n",
       "      <td>HANGZHOU DOWELL ULTRASONIC TECHNOLOGY CO.,LTD ...</td>\n",
       "      <td>86-86-571-23289358</td>\n",
       "      <td>davidwang@dowellsonic.com</td>\n",
       "      <td>http://www.dowellsonic.com/</td>\n",
       "      <td>No review posted</td>\n",
       "      <td>Agricultural Equipment &amp; Implements</td>\n",
       "      <td></td>\n",
       "      <td>86-571-23289358</td>\n",
       "    </tr>\n",
       "    <tr>\n",
       "      <th>2</th>\n",
       "      <td>Dec 27, 2017</td>\n",
       "      <td>2069</td>\n",
       "      <td>Shanghai L&amp;H International Co., Ltd. is an int...</td>\n",
       "      <td>692-86-21-67186908</td>\n",
       "      <td>Sales@gdbr-bearing.com</td>\n",
       "      <td>http://www.gdbr-bearing.com</td>\n",
       "      <td>No review posted</td>\n",
       "      <td>Agricultural Equipment &amp; Implements</td>\n",
       "      <td></td>\n",
       "      <td></td>\n",
       "    </tr>\n",
       "    <tr>\n",
       "      <th>3</th>\n",
       "      <td>Apr 26, 2018</td>\n",
       "      <td>2268</td>\n",
       "      <td>Bahuvida Group is an Indian multinational cong...</td>\n",
       "      <td>91-+919398671645, 91-9398671645</td>\n",
       "      <td>bahuvidalimited@gmail.com</td>\n",
       "      <td></td>\n",
       "      <td>No review posted</td>\n",
       "      <td>Agricultural Equipment &amp; Implements</td>\n",
       "      <td>500034</td>\n",
       "      <td>+91-40-23558850</td>\n",
       "    </tr>\n",
       "    <tr>\n",
       "      <th>4</th>\n",
       "      <td>Apr 28, 2018</td>\n",
       "      <td>2485</td>\n",
       "      <td>Huzhou Hengxin Label Manufacture Co.,Ltd. is l...</td>\n",
       "      <td>86-86-572-3773115, 86-86-13666518088</td>\n",
       "      <td>info@hengxin-label.com</td>\n",
       "      <td>http://www.hengxin-label.com/</td>\n",
       "      <td>No review posted</td>\n",
       "      <td>Agricultural Equipment &amp; Implements</td>\n",
       "      <td></td>\n",
       "      <td>86-572-3771088</td>\n",
       "    </tr>\n",
       "  </tbody>\n",
       "</table>\n",
       "</div>"
      ],
      "text/plain": [
       "   updated_date  views                                        description  \\\n",
       "0  Oct 20, 2017   3158  We are manufacturer of multi crop thresher and...   \n",
       "1  Dec 21, 2017   2525  HANGZHOU DOWELL ULTRASONIC TECHNOLOGY CO.,LTD ...   \n",
       "2  Dec 27, 2017   2069  Shanghai L&H International Co., Ltd. is an int...   \n",
       "3  Apr 26, 2018   2268  Bahuvida Group is an Indian multinational cong...   \n",
       "4  Apr 28, 2018   2485  Huzhou Hengxin Label Manufacture Co.,Ltd. is l...   \n",
       "\n",
       "                                  phone                       email  \\\n",
       "0                         91-9587969826  Abhijitpandey555@gmail.com   \n",
       "1                    86-86-571-23289358   davidwang@dowellsonic.com   \n",
       "2                    692-86-21-67186908      Sales@gdbr-bearing.com   \n",
       "3       91-+919398671645, 91-9398671645   bahuvidalimited@gmail.com   \n",
       "4  86-86-572-3773115, 86-86-13666518088      info@hengxin-label.com   \n",
       "\n",
       "                         website           reviews  \\\n",
       "0                                 No review posted   \n",
       "1    http://www.dowellsonic.com/  No review posted   \n",
       "2    http://www.gdbr-bearing.com  No review posted   \n",
       "3                                 No review posted   \n",
       "4  http://www.hengxin-label.com/  No review posted   \n",
       "\n",
       "                    related_categories postal_code       fax_number  \n",
       "0  Agricultural Equipment & Implements                               \n",
       "1  Agricultural Equipment & Implements              86-571-23289358  \n",
       "2  Agricultural Equipment & Implements                               \n",
       "3  Agricultural Equipment & Implements      500034  +91-40-23558850  \n",
       "4  Agricultural Equipment & Implements               86-572-3771088  "
      ]
     },
     "metadata": {},
     "output_type": "display_data"
    }
   ],
   "source": [
    "# Import the DataScraper class from the webscraping module\n",
    "# (assuming it's in the same package as LinkScraper)\n",
    "from src.my_package.webscraping import DataScraper\n",
    "\n",
    "# Instantiate the DataScraper\n",
    "data_scraper = DataScraper()\n",
    "\n",
    "# Scrape detailed data from each link\n",
    "# (Assuming your LinkScraper has a method to get a list of links)\n",
    "links = links_df['Link'].tolist()[:10]  # Convert the 'Link' column of your DataFrame to a list\n",
    "data_scraper.scrape_sites(links)   # Scrape data from the list of links\n",
    "\n",
    "# Convert the scraped data to a DataFrame\n",
    "detailed_data_df = data_scraper.to_dataframe()\n",
    "\n",
    "# Display the first few rows of the detailed data DataFrame to ensure it looks correct\n",
    "detailed_data_df.head()\n"
   ]
  },
  {
   "cell_type": "code",
   "execution_count": null,
   "metadata": {},
   "outputs": [
    {
     "name": "stdout",
     "output_type": "stream",
     "text": [
      "Data saved to detailed_scraped_data.csv\n",
      "Detailed scraped data has been saved to detailed_scraped_data.csv\n"
     ]
    }
   ],
   "source": [
    "# Specify the filename for the CSV of detailed data\n",
    "detailed_csv_filename = 'detailed_scraped_data.csv'\n",
    "\n",
    "# Save the detailed data to a CSV file\n",
    "data_scraper.save_to_csv(detailed_csv_filename)\n",
    "\n",
    "# Confirm saving the file\n",
    "print(f\"Detailed scraped data has been saved to {detailed_csv_filename}\")\n"
   ]
  },
  {
   "cell_type": "markdown",
   "metadata": {},
   "source": [
    "### Initial Data Exploration\n",
    "\n",
    "Now that we have our detailed dataset, let's perform some initial explorations to understand what we have collected. We will look at the data types, check for missing values, and summarize the dataset to ensure its integrity and readiness for analysis.\n",
    "\n",
    "We will also describe each field to clarify what they represent and how they can be used for answering our questions or providing insights.\n"
   ]
  },
  {
   "cell_type": "code",
   "execution_count": null,
   "metadata": {},
   "outputs": [
    {
     "name": "stdout",
     "output_type": "stream",
     "text": [
      "<class 'pandas.core.frame.DataFrame'>\n",
      "RangeIndex: 10 entries, 0 to 9\n",
      "Data columns (total 10 columns):\n",
      " #   Column              Non-Null Count  Dtype \n",
      "---  ------              --------------  ----- \n",
      " 0   updated_date        10 non-null     object\n",
      " 1   views               10 non-null     int64 \n",
      " 2   description         10 non-null     object\n",
      " 3   phone               10 non-null     object\n",
      " 4   email               10 non-null     object\n",
      " 5   website             10 non-null     object\n",
      " 6   reviews             10 non-null     object\n",
      " 7   related_categories  10 non-null     object\n",
      " 8   postal_code         10 non-null     object\n",
      " 9   fax_number          10 non-null     object\n",
      "dtypes: int64(1), object(9)\n",
      "memory usage: 928.0+ bytes\n"
     ]
    },
    {
     "data": {
      "text/plain": [
       "updated_date          0\n",
       "views                 0\n",
       "description           0\n",
       "phone                 0\n",
       "email                 0\n",
       "website               0\n",
       "reviews               0\n",
       "related_categories    0\n",
       "postal_code           0\n",
       "fax_number            0\n",
       "dtype: int64"
      ]
     },
     "metadata": {},
     "output_type": "display_data"
    }
   ],
   "source": [
    "# Display the info of the DataFrame to get an overview of the data types and missing values\n",
    "detailed_data_df.info()\n",
    "\n",
    "# Display statistical summaries for numerical fields in the DataFrame\n",
    "detailed_data_df.describe()\n",
    "\n",
    "# If there are categorical data fields, consider including frequency counts for those as well\n",
    "# detailed_data_df['category_field'].value_counts()\n",
    "\n",
    "# Check for missing values in the DataFrame\n",
    "detailed_data_df.isnull().sum()\n"
   ]
  },
  {
   "cell_type": "markdown",
   "metadata": {},
   "source": [
    "## Intraday Stock Data Analysis\n",
    "\n"
   ]
  },
  {
   "cell_type": "markdown",
   "metadata": {},
   "source": [
    "## Introduction\n",
    "\n",
    "For task 4 of our Project 2, we continue our exploration of stock data, focusing specifically on the intraday price movements captured in Part 2 of our project. We will delve into a deeper analysis of [IBM] data obtained from the Alpha Vantage API, aiming to uncover patterns, anomalies, and potential indicators of stock performance.\n",
    "\n",
    "The goal of this analysis is not only to gain insights into the stock's behavior but also to illustrate the application of various data analysis techniques in a financial context.\n"
   ]
  },
  {
   "cell_type": "markdown",
   "metadata": {},
   "source": [
    "\n",
    "\n",
    "### Analysis Objectives\n",
    "\n",
    "- **Question 1:** How does the stock's price fluctuate during the trading day?\n",
    "- **Question 2:** When are the peak trading volumes, and what might this indicate?\n",
    "- **Question 3:** Are there any observable patterns or anomalies that could inform trading decisions?\n",
    "\n",
    "Understanding these aspects can be crucial for day traders and financial analysts who make market decisions based on short-term price movements and liquidity considerations.\n"
   ]
  },
  {
   "cell_type": "markdown",
   "metadata": {},
   "source": [
    "### Data Preparation\n",
    "\n",
    "Before we dive into the analysis, it's crucial to prepare our dataset. This step includes loading the data, performing any necessary cleaning, and confirming that the data types are appropriate for our analysis tasks. We'll also re-import any necessary Python modules and our `StockDataCollector` class.\n",
    "\n",
    "In this phase, we will load the data collected from Part 2, check for any inconsistencies or missing values, and prepare the dataset for analysis. This will involve re-importing any necessary libraries and performing initial data checks.\n",
    "\n",
    "Import the `StockAnalysis` class from the `stock_analysis` module and initialize it with the path to your stock data CSV file.\n",
    "\n",
    "Let's begin by setting up our environment and loading the dataset.\n"
   ]
  },
  {
   "cell_type": "code",
   "execution_count": 1,
   "metadata": {},
   "outputs": [],
   "source": [
    "# Import necessary libraries\n",
    "import pandas as pd\n",
    "import matplotlib.pyplot as plt\n",
    "import numpy as np\n",
    "\n",
    "from src.my_package.stock_data_collector import StockAnalysis\n",
    "\n",
    "# Initialize the class with the CSV file path\n",
    "analysis = StockAnalysis('stock_data.csv')\n",
    "\n",
    "\n",
    "\n"
   ]
  },
  {
   "cell_type": "markdown",
   "metadata": {},
   "source": [
    "Display the first few rows of the stock data to verify that it's loaded correctly.\n"
   ]
  },
  {
   "cell_type": "code",
   "execution_count": 2,
   "metadata": {},
   "outputs": [
    {
     "name": "stdout",
     "output_type": "stream",
     "text": [
      "     Open    High     Low   Close  Volume\n",
      "0  152.98  153.08  152.98  153.08      63\n",
      "1  152.98  152.98  152.98  152.98       3\n",
      "2  153.00  153.03  152.75  152.88      20\n",
      "3  152.97  152.97  152.97  152.97       2\n",
      "4  153.09  153.09  153.09  153.09       5\n"
     ]
    }
   ],
   "source": [
    "# Display the first few rows of the data\n",
    "analysis.display_head()\n"
   ]
  },
  {
   "cell_type": "markdown",
   "metadata": {},
   "source": [
    "Check the data types of each column and look for any missing values in the dataset.\n"
   ]
  },
  {
   "cell_type": "code",
   "execution_count": 3,
   "metadata": {},
   "outputs": [
    {
     "name": "stdout",
     "output_type": "stream",
     "text": [
      "<class 'pandas.core.frame.DataFrame'>\n",
      "RangeIndex: 100 entries, 0 to 99\n",
      "Data columns (total 5 columns):\n",
      " #   Column  Non-Null Count  Dtype  \n",
      "---  ------  --------------  -----  \n",
      " 0   Open    100 non-null    float64\n",
      " 1   High    100 non-null    float64\n",
      " 2   Low     100 non-null    float64\n",
      " 3   Close   100 non-null    float64\n",
      " 4   Volume  100 non-null    int64  \n",
      "dtypes: float64(4), int64(1)\n",
      "memory usage: 4.0 KB\n",
      "None\n",
      "Open      0\n",
      "High      0\n",
      "Low       0\n",
      "Close     0\n",
      "Volume    0\n",
      "dtype: int64\n"
     ]
    }
   ],
   "source": [
    "# Check data types and missing values\n",
    "analysis.data_info()\n"
   ]
  },
  {
   "cell_type": "markdown",
   "metadata": {},
   "source": [
    "### Exploratory Data Analysis (EDA)\n",
    "\n",
    "With our data loaded and preliminarily checked, we can now proceed to explore it to understand underlying patterns and behaviors. The EDA will allow us to visualize trends, distributions, and outliers within the intraday stock data. This step is crucial for gaining insights and guiding our subsequent in-depth analysis.\n"
   ]
  },
  {
   "cell_type": "markdown",
   "metadata": {},
   "source": [
    "### Statistical Summary\n",
    "First, let's review the statistical summary of our dataset. This gives us a quick overview of the distribution of our data, particularly focusing on the central tendency and variability of the stock prices and volumes."
   ]
  },
  {
   "cell_type": "code",
   "execution_count": 4,
   "metadata": {},
   "outputs": [
    {
     "name": "stdout",
     "output_type": "stream",
     "text": [
      "             Open        High         Low       Close        Volume\n",
      "count  100.000000  100.000000  100.000000  100.000000  1.000000e+02\n",
      "mean   153.013330  153.060010  152.957830  153.008960  8.210883e+04\n",
      "std      0.205214    0.206257    0.201495    0.210801  3.205081e+05\n",
      "min    152.620000  152.650000  152.490000  152.620000  1.000000e+00\n",
      "25%    152.880000  152.917500  152.730000  152.745000  2.675000e+01\n",
      "50%    153.035000  153.084500  152.970000  153.050000  2.005650e+04\n",
      "75%    153.161250  153.211250  153.090000  153.170750  2.840350e+04\n",
      "max    153.415000  153.480000  153.350000  153.420000  2.520261e+06\n"
     ]
    }
   ],
   "source": [
    "# Statistical summary\n",
    "analysis.statistical_summary()\n"
   ]
  },
  {
   "cell_type": "markdown",
   "metadata": {},
   "source": [
    "The dataset provides insights into the intraday trading activity of the stock, captured in 100 data points across all columns. Here is a summary of the statistical analysis:\n",
    "\n",
    "- **Mean Closing Price**: The average closing price over the observed intervals is approximately 153.01 USD, indicating a relatively stable trading period around this price level.\n",
    "- **Volatility**: The standard deviation for the closing prices is 0.21 USD, which reflects mild price volatility during the trading day.\n",
    "- **Price Range**: The stock price fluctuated between a minimum of 152.62 USD and a maximum of 153.42 USD.\n",
    "- **Trading Volume**: There is a wide range in the volume of stocks traded, as evidenced by the large standard deviation. This suggests periods of both high and low trading activity."
   ]
  },
  {
   "cell_type": "markdown",
   "metadata": {},
   "source": [
    "### Closing Price Trend\n",
    "The closing price is a critical metric in stock analysis as it represents the final price at which a stock is traded on a particular day. A plot of the closing price over time can help us observe the stock's performance throughout the day."
   ]
  },
  {
   "cell_type": "code",
   "execution_count": 7,
   "metadata": {},
   "outputs": [
    {
     "data": {
      "image/png": "[encoded data removed]",
      "text/plain": [
       "<Figure size 1400x700 with 1 Axes>"
      ]
     },
     "metadata": {},
     "output_type": "display_data"
    }
   ],
   "source": [
    "# Plotting close price and volume distribution\n",
    "analysis.plot_close_price()\n"
   ]
  },
  {
   "cell_type": "markdown",
   "metadata": {},
   "source": [
    "The line chart of the closing prices shows the stock's price movements throughout the trading day. The trend is characterized by slight fluctuations around the mean price level, suggesting a relatively stable market with no significant price spikes or drops."
   ]
  },
  {
   "cell_type": "markdown",
   "metadata": {},
   "source": [
    "### Volume Distribution\n",
    "The trading volume indicates how many shares were traded during a specific time. A high trading volume could mean that the stock is more volatile, which may interest certain investors. Let's visualize the volume distribution to identify any outliers or patterns."
   ]
  },
  {
   "cell_type": "code",
   "execution_count": 6,
   "metadata": {},
   "outputs": [
    {
     "data": {
      "image/png": "[encoded data removed]",
      "text/plain": [
       "<Figure size 1000x600 with 1 Axes>"
      ]
     },
     "metadata": {},
     "output_type": "display_data"
    }
   ],
   "source": [
    "analysis.plot_volume_distribution()\n"
   ]
  },
  {
   "cell_type": "markdown",
   "metadata": {},
   "source": [
    "The boxplot of trading volumes provides a visualization of the distribution and spread of trade volumes during the day. The presence of outliers indicates instances of exceptionally high trading activity, which could be due to market news or events impacting the stock.\n",
    "\n",
    "\n",
    "The analysis of the stock's intraday data reveals a generally steady market with periodic increases in trading volume. These insights could be foundational for further investigation into market triggers or for constructing trading strategies.\n"
   ]
  },
  {
   "cell_type": "markdown",
   "metadata": {},
   "source": [
    "### In-depth Analysis\n",
    "\n",
    "After observing the overall trends and distributions in our stock data, we will now conduct a more detailed analysis. This will provide us with a deeper understanding of the stock's behavior over time. The following analyses will focus on the stock's volatility and potential patterns within the time series data.\n",
    "\n",
    "#### Volatility Analysis\n",
    "\n",
    "Volatility represents the rate at which the price of a security increases or decreases for a given set of returns. It is a statistical measure of the dispersion of returns and is often used to quantify the risk of a security. We will calculate the annualized volatility of the stock based on its daily closing prices.\n",
    "\n",
    "#### Time Series Decomposition\n",
    "\n",
    "Time series decomposition allows us to break down a time series into its core components: trend, seasonality, and residuals. This can help identify underlying patterns that may not be immediately apparent. While our dataset may not exhibit strong seasonality, the decomposition will enable us to isolate and analyze the trend and irregular components of the time series.\n"
   ]
  },
  {
   "cell_type": "code",
   "execution_count": 9,
   "metadata": {},
   "outputs": [
    {
     "name": "stdout",
     "output_type": "stream",
     "text": [
      "The annualized volatility is: 1.28%\n"
     ]
    },
    {
     "data": {
      "image/png": "[encoded data removed]",
      "text/plain": [
       "<Figure size 1400x700 with 1 Axes>"
      ]
     },
     "metadata": {},
     "output_type": "display_data"
    },
    {
     "data": {
      "image/png": "[encoded data removed]",
      "text/plain": [
       "<Figure size 1400x700 with 4 Axes>"
      ]
     },
     "metadata": {},
     "output_type": "display_data"
    }
   ],
   "source": [
    "# Calculate and plot daily returns\n",
    "analysis.calculate_daily_returns()\n",
    "analysis.calculate_volatility()\n",
    "analysis.plot_daily_returns()\n",
    "\n",
    "# Decompose time series\n",
    "analysis.decompose_time_series()\n",
    "\n"
   ]
  },
  {
   "cell_type": "markdown",
   "metadata": {},
   "source": [
    "### Time Series Decomposition of Stock Closing Prices\n",
    "\n",
    "#### Components:\n",
    "- **Actual Closing Prices**: The plot represents the closing prices over time, showing the natural fluctuations on a day-to-day basis within the dataset.\n",
    "\n",
    "- **Trend**: This represents the smoothed long-term direction of the stock's closing price. It helps in identifying the overarching movement, discounting the daily volatility.\n",
    "\n",
    "- **Seasonal**: Since the decomposition is set with a period of 1, indicating no assumed seasonality, the seasonal component is a flat line, suggesting no recurring seasonal pattern was found in the data.\n",
    "\n",
    "- **Residual**: These are the irregular components left after the trend and seasonality have been accounted for. The near-zero residuals indicate that the trend closely follows the actual closing prices, under the given assumption of no seasonality.\n",
    "\n",
    "### Daily Returns of the Stock\n",
    "\n",
    "\n",
    "#### Analysis:\n",
    "- The graph of daily returns shows the percentage change in the stock's closing price from one assumed business day to the next. The volatility is evident, with the returns fluctuating sharply, which is a common characteristic of daily stock market returns.\n",
    "\n",
    "- There is no discernible pattern or trend in the daily returns, which aligns with the efficient market hypothesis, where price movements are largely random and unpredictable on a day-to-day basis.\n"
   ]
  },
  {
   "cell_type": "markdown",
   "metadata": {},
   "source": [
    "### Insights and Interpretation\n",
    "\n",
    "The exploratory data analysis revealed several key insights about the stock's behavior during the intraday period. The daily returns plot shows fluctuations in the stock's performance, with some spikes suggesting moments of high trading activity or market reactions to news. Notably, the returns remain within a relatively tight range, indicating no extreme volatility on this particular day.\n",
    "\n",
    "The time series decomposition indicates a stable trend without clear patterns of seasonality. The residuals are also quite steady, suggesting that the model has captured most of the time series information in the trend component. This could mean that the stock price movements are largely driven by longer-term factors rather than intra-day seasonal effects.\n",
    "\n",
    "The lack of seasonality and low residuals could be beneficial for investors who prefer stable stocks with predictable patterns. It could also indicate that any intraday trading strategies would need to focus on short-term price movements rather than predictable seasonal patterns.\n",
    "\n",
    "Overall, the intraday analysis of the stock suggests a relatively stable trading day with no significant outliers or patterns that would suggest abnormal trading behavior.\n"
   ]
  },
  {
   "cell_type": "markdown",
   "metadata": {},
   "source": [
    "### Implications of Findings\n",
    "\n",
    "The analysis of the intraday stock data has presented a relatively stable trend in the closing prices with slight fluctuations over the observed period. This stability suggests that the stock may be considered a lower-risk investment in the short term, potentially appealing to conservative investors who prioritize capital preservation over high returns.\n",
    "\n",
    "The calculated annualized volatility is indicative of a stock with moderate fluctuations, which could mean that while the stock presents some risk, it is not excessively volatile when compared to more turbulent securities. This level of volatility might be suitable for investors with a moderate risk appetite.\n",
    "\n",
    "Our time series decomposition did not reveal any significant seasonality, which implies that the stock's movements are more influenced by irregular or random factors than by predictable seasonal patterns. For day traders, this means they may need to rely more on short-term market signals than on any expected seasonal trends. For long-term investors, the absence of seasonality confirms that focusing on the stock's fundamentals and overall market trends may be more beneficial than attempting to capitalize on periodic fluctuations.\n",
    "\n",
    "In summary, the insights derived from this analysis underscore the need for a balanced approach to investment that takes into account both the stock's current stability and its potential for unexpected changes, especially in a market that is susceptible to rapid shifts due to external events.\n",
    "\n",
    "### Further Considerations\n",
    "\n",
    "While the analysis has provided valuable insights into the stock's intraday behavior, it is important to consider broader market conditions, economic indicators, and company-specific news that could significantly impact future stock performance. A holistic investment strategy should also include an evaluation of the company's financial health, competitive position, and growth prospects.\n",
    "\n",
    "\n",
    "\n",
    "\n"
   ]
  },
  {
   "cell_type": "markdown",
   "metadata": {},
   "source": [
    "### Conclusion for IBM Stock Analysis\n",
    "\n",
    "The exploration of IBM's intraday stock data through trend and volatility analysis offers a snapshot of its current behavior in the market. The findings from this analysis could be particularly informative for investors looking for relatively stable investment opportunities amid market uncertainties."
   ]
  },
  {
   "cell_type": "markdown",
   "metadata": {},
   "source": [
    "## Conclusion\n",
    "\n",
    "In this project, we developed a comprehensive suite of Python tools aimed at extracting and analyzing web data, leveraging various techniques like XML parsing, API interaction, web scraping, and data analysis. The project is composed of three distinct modules:\n",
    "\n",
    "1.  SitemapParser: This module navigates through a domain's sitemaps, extracting URLs and organizing them into clean DataFrames. It exemplifies efficient XML parsing and showcases how structured website data can be methodically retrieved and prepared for analysis.\n",
    "\n",
    "2.  StockDataCollector: Focused on interacting with the Alpha Vantage API, this module demonstrates how to fetch and process financial data. It's an example of handling API requests responsibly while transforming JSON responses into user-friendly pandas DataFrames.\n",
    "\n",
    "3.  Web Scraping Module (LinkScraper and DataScraper): These classes highlight the scraping of web content at multiple levels, from hyperlink collection to detailed data extraction. They are tailored for flexibility, allowing for the collection of a wide variety of data types from the web.\n",
    "\n",
    "Each module is designed with best practices in mind, emphasizing clean, readable, and maintainable code. The project not only aligns with the technical requirements of the assignment but also demonstrates a practical application of Python in data science and web data extraction.\n",
    "\n",
    "Through this endeavor, we've showcased the synergy between Python's powerful libraries and data analysis techniques. The project stands as a testament to Python's versatility in handling diverse data sources and its potential in driving data-driven insights."
   ]
  },
  {
   "cell_type": "markdown",
   "metadata": {},
   "source": [
    "### References\n",
    "\n",
    "1. Molin, Stefanie. \"Hands-On Data Analysis with Pandas.\" Chapter 7 provides a detailed guide on creating a Python package, similar to the approach used in this project.\n",
    "2. [BeautifulSoup Documentation](https://www.crummy.com/software/BeautifulSoup/bs4/doc/): For web scraping techniques used in the LinkScraper and DataScraper modules.\n",
    "3. [Pandas Documentation](https://pandas.pydata.org/pandas-docs/stable/): Reference for data manipulation and DataFrame operations across all modules.\n",
    "4. [Requests Library Documentation](https://docs.python-requests.org/en/latest/): Used for HTTP requests in all modules.\n",
    "5. [Alpha Vantage API Documentation](https://www.alphavantage.co/documentation/): For understanding and implementing the API interactions in the StockDataCollector module.\n",
    "6. TradingView Website: [https://www.tradingview.com/](https://www.tradingview.com/): For financial data and market insights.\n",
    "7. Yellow Pages Nepal: Reference for business listings and information (https://www.yellowpagesnepal.com/).\n"
   ]
  },
  {
   "cell_type": "markdown",
   "metadata": {},
   "source": [
    "### Dynamic Website Scraping with Selenium\n",
    "\n",
    "## Introduction\n",
    "\n",
    "This notebook demonstrates the process of scraping dynamic financial data using Selenium from Yahoo Finance. Yahoo Finance is a popular website that offers a comprehensive set of financial data, tools, and information, making it a valuable resource for financial analysts, investors, and data enthusiasts. The goal is to automate the browser to navigate the site, interact with various elements, and capture real-time financial data for analysis.\n",
    "\n",
    "We will specifically focus on [mention the specific data you aim to scrape, such as stock prices, news articles, or market trends] to demonstrate the capabilities of Selenium for web scraping tasks.\n",
    "\n",
    "## Setup\n",
    "Ensure you have Selenium installed along with the necessary WebDriver for the browser you intend to use. For Chrome, you would typically download `chromedriver` that matches your version of the browser.\n",
    "\n",
    "## Importing Required Libraries\n"
   ]
  },
  {
   "cell_type": "markdown",
   "metadata": {},
   "source": [
    "## Initializing the Selenium Scraper\n",
    "We initialize our `SeleniumScraper` class by passing in the URL of the website we want to scrape and the path to our WebDriver executable.\n"
   ]
  },
  {
   "cell_type": "markdown",
   "metadata": {},
   "source": [
    "## Environment Setup\n",
    "\n",
    "Before beginning the scraping process, we need to set up our environment by installing necessary Python packages and preparing the Selenium WebDriver.\n",
    "\n",
    "Ensure that you have installed the following packages using pip:\n",
    "\n",
    "- selenium\n",
    "- webdriver_manager (optional for managing the WebDriver binaries)\n",
    "\n"
   ]
  },
  {
   "cell_type": "code",
   "execution_count": null,
   "metadata": {},
   "outputs": [
    {
     "ename": "TimeoutException",
     "evalue": "Message: \nStacktrace:\n\tGetHandleVerifier [0x00007FF7F6B082B2+55298]\n\t(No symbol) [0x00007FF7F6A75E02]\n\t(No symbol) [0x00007FF7F69305AB]\n\t(No symbol) [0x00007FF7F697175C]\n\t(No symbol) [0x00007FF7F69718DC]\n\t(No symbol) [0x00007FF7F69ACBC7]\n\t(No symbol) [0x00007FF7F69920EF]\n\t(No symbol) [0x00007FF7F69AAAA4]\n\t(No symbol) [0x00007FF7F6991E83]\n\t(No symbol) [0x00007FF7F696670A]\n\t(No symbol) [0x00007FF7F6967964]\n\tGetHandleVerifier [0x00007FF7F6E80AAB+3694587]\n\tGetHandleVerifier [0x00007FF7F6ED728E+4048862]\n\tGetHandleVerifier [0x00007FF7F6ECF173+4015811]\n\tGetHandleVerifier [0x00007FF7F6BA47D6+695590]\n\t(No symbol) [0x00007FF7F6A80CE8]\n\t(No symbol) [0x00007FF7F6A7CF34]\n\t(No symbol) [0x00007FF7F6A7D062]\n\t(No symbol) [0x00007FF7F6A6D3A3]\n\tBaseThreadInitThunk [0x00007FFDD5AA257D+29]\n\tRtlUserThreadStart [0x00007FFDD78CAA58+40]\n",
     "output_type": "error",
     "traceback": [
      "\u001b[1;31m---------------------------------------------------------------------------\u001b[0m\n",
      "\u001b[1;31mTimeoutException\u001b[0m                          Traceback (most recent call last)\n",
      "\u001b[1;32mc:\\Users\\Asus\\Desktop\\Analytical\\DAV-5400\\Project 2\\Dynamic_Site_Scraping_with_Selenium.ipynb Cell 4\u001b[0m line \u001b[0;36m5\n",
      "\u001b[0;32m      <a href='vscode-notebook-cell:/c%3A/Users/Asus/Desktop/Analytical/DAV-5400/Project%202/Dynamic_Site_Scraping_with_Selenium.ipynb#X10sZmlsZQ%3D%3D?line=1'>2</a>\u001b[0m scraper\u001b[39m.\u001b[39mstart_browser()\n",
      "\u001b[0;32m      <a href='vscode-notebook-cell:/c%3A/Users/Asus/Desktop/Analytical/DAV-5400/Project%202/Dynamic_Site_Scraping_with_Selenium.ipynb#X10sZmlsZQ%3D%3D?line=3'>4</a>\u001b[0m \u001b[39m# Scrape company data for Apple Inc.\u001b[39;00m\n",
      "\u001b[1;32m----> <a href='vscode-notebook-cell:/c%3A/Users/Asus/Desktop/Analytical/DAV-5400/Project%202/Dynamic_Site_Scraping_with_Selenium.ipynb#X10sZmlsZQ%3D%3D?line=4'>5</a>\u001b[0m df_aapl \u001b[39m=\u001b[39m scraper\u001b[39m.\u001b[39;49mscrape_company_data(\u001b[39m'\u001b[39;49m\u001b[39mAAPL\u001b[39;49m\u001b[39m'\u001b[39;49m)\n",
      "\u001b[0;32m      <a href='vscode-notebook-cell:/c%3A/Users/Asus/Desktop/Analytical/DAV-5400/Project%202/Dynamic_Site_Scraping_with_Selenium.ipynb#X10sZmlsZQ%3D%3D?line=6'>7</a>\u001b[0m \u001b[39m# Close the browser session\u001b[39;00m\n",
      "\u001b[0;32m      <a href='vscode-notebook-cell:/c%3A/Users/Asus/Desktop/Analytical/DAV-5400/Project%202/Dynamic_Site_Scraping_with_Selenium.ipynb#X10sZmlsZQ%3D%3D?line=7'>8</a>\u001b[0m scraper\u001b[39m.\u001b[39mclose_browser()\n",
      "\n",
      "File \u001b[1;32mc:\\Users\\Asus\\Desktop\\Analytical\\DAV-5400\\Project 2\\dynamic_site_scraper.py:85\u001b[0m, in \u001b[0;36mFinancialDataScraper.scrape_company_data\u001b[1;34m(self, symbol)\u001b[0m\n",
      "\u001b[0;32m     82\u001b[0m \u001b[39mself\u001b[39m\u001b[39m.\u001b[39mbrowser\u001b[39m.\u001b[39mget(url_form\u001b[39m.\u001b[39mformat(symbol, \u001b[39m\"\u001b[39m\u001b[39mincome-statement\u001b[39m\u001b[39m\"\u001b[39m))\n",
      "\u001b[0;32m     84\u001b[0m \u001b[39m# Wait for the page to load\u001b[39;00m\n",
      "\u001b[1;32m---> 85\u001b[0m WebDriverWait(\u001b[39mself\u001b[39;49m\u001b[39m.\u001b[39;49mbrowser, \u001b[39m10\u001b[39;49m)\u001b[39m.\u001b[39;49muntil(\n",
      "\u001b[0;32m     86\u001b[0m     EC\u001b[39m.\u001b[39;49mpresence_of_element_located(\n",
      "\u001b[0;32m     87\u001b[0m         (By\u001b[39m.\u001b[39;49mXPATH, \u001b[39m\"\u001b[39;49m\u001b[39m//h1[contains(text(), \u001b[39;49m\u001b[39m'\u001b[39;49m\u001b[39mCompany Financials\u001b[39;49m\u001b[39m'\u001b[39;49m\u001b[39m)]\u001b[39;49m\u001b[39m\"\u001b[39;49m)\n",
      "\u001b[0;32m     88\u001b[0m     )\n",
      "\u001b[0;32m     89\u001b[0m )\n",
      "\u001b[0;32m     91\u001b[0m \u001b[39m# Scrape data\u001b[39;00m\n",
      "\u001b[0;32m     92\u001b[0m data[\u001b[39m\"\u001b[39m\u001b[39mcompany\u001b[39m\u001b[39m\"\u001b[39m] \u001b[39m+\u001b[39m\u001b[39m=\u001b[39m [symbol] \u001b[39m*\u001b[39m \u001b[39m4\u001b[39m\n",
      "\n",
      "File \u001b[1;32mc:\\Python311\\Lib\\site-packages\\selenium\\webdriver\\support\\wait.py:101\u001b[0m, in \u001b[0;36mWebDriverWait.until\u001b[1;34m(self, method, message)\u001b[0m\n",
      "\u001b[0;32m     99\u001b[0m     \u001b[39mif\u001b[39;00m time\u001b[39m.\u001b[39mmonotonic() \u001b[39m>\u001b[39m end_time:\n",
      "\u001b[0;32m    100\u001b[0m         \u001b[39mbreak\u001b[39;00m\n",
      "\u001b[1;32m--> 101\u001b[0m \u001b[39mraise\u001b[39;00m TimeoutException(message, screen, stacktrace)\n",
      "\n",
      "\u001b[1;31mTimeoutException\u001b[0m: Message: \n",
      "Stacktrace:\n",
      "\tGetHandleVerifier [0x00007FF7F6B082B2+55298]\n",
      "\t(No symbol) [0x00007FF7F6A75E02]\n",
      "\t(No symbol) [0x00007FF7F69305AB]\n",
      "\t(No symbol) [0x00007FF7F697175C]\n",
      "\t(No symbol) [0x00007FF7F69718DC]\n",
      "\t(No symbol) [0x00007FF7F69ACBC7]\n",
      "\t(No symbol) [0x00007FF7F69920EF]\n",
      "\t(No symbol) [0x00007FF7F69AAAA4]\n",
      "\t(No symbol) [0x00007FF7F6991E83]\n",
      "\t(No symbol) [0x00007FF7F696670A]\n",
      "\t(No symbol) [0x00007FF7F6967964]\n",
      "\tGetHandleVerifier [0x00007FF7F6E80AAB+3694587]\n",
      "\tGetHandleVerifier [0x00007FF7F6ED728E+4048862]\n",
      "\tGetHandleVerifier [0x00007FF7F6ECF173+4015811]\n",
      "\tGetHandleVerifier [0x00007FF7F6BA47D6+695590]\n",
      "\t(No symbol) [0x00007FF7F6A80CE8]\n",
      "\t(No symbol) [0x00007FF7F6A7CF34]\n",
      "\t(No symbol) [0x00007FF7F6A7D062]\n",
      "\t(No symbol) [0x00007FF7F6A6D3A3]\n",
      "\tBaseThreadInitThunk [0x00007FFDD5AA257D+29]\n",
      "\tRtlUserThreadStart [0x00007FFDD78CAA58+40]\n"
     ]
    }
   ],
   "source": [
    "# Start the browser session\n",
    "scraper.start_browser()\n",
    "\n",
    "# Scrape company data for Apple Inc.\n",
    "df_aapl = scraper.scrape_company_data('AAPL')\n",
    "\n",
    "# Close the browser session\n",
    "scraper.close_browser()\n"
   ]
  },
  {
   "cell_type": "code",
   "execution_count": null,
   "metadata": {},
   "outputs": [
    {
     "ename": "NameError",
     "evalue": "name 'df_aapl' is not defined",
     "output_type": "error",
     "traceback": [
      "\u001b[1;31m---------------------------------------------------------------------------\u001b[0m\n",
      "\u001b[1;31mNameError\u001b[0m                                 Traceback (most recent call last)\n",
      "\u001b[1;32mc:\\Users\\Asus\\Desktop\\Analytical\\DAV-5400\\Project 2\\Dynamic_Site_Scraping_with_Selenium.ipynb Cell 5\u001b[0m line \u001b[0;36m2\n",
      "\u001b[0;32m      <a href='vscode-notebook-cell:/c%3A/Users/Asus/Desktop/Analytical/DAV-5400/Project%202/Dynamic_Site_Scraping_with_Selenium.ipynb#X11sZmlsZQ%3D%3D?line=0'>1</a>\u001b[0m \u001b[39m# Save the scraped data to a CSV file\u001b[39;00m\n",
      "\u001b[1;32m----> <a href='vscode-notebook-cell:/c%3A/Users/Asus/Desktop/Analytical/DAV-5400/Project%202/Dynamic_Site_Scraping_with_Selenium.ipynb#X11sZmlsZQ%3D%3D?line=1'>2</a>\u001b[0m df_aapl\u001b[39m.\u001b[39mto_csv(\u001b[39m'\u001b[39m\u001b[39mAAPL_financials.csv\u001b[39m\u001b[39m'\u001b[39m, index\u001b[39m=\u001b[39m\u001b[39mFalse\u001b[39;00m)\n",
      "\n",
      "\u001b[1;31mNameError\u001b[0m: name 'df_aapl' is not defined"
     ]
    }
   ],
   "source": [
    "# Save the scraped data to a CSV file\n",
    "df_aapl.to_csv('AAPL_financials.csv', index=False)\n"
   ]
  },
  {
   "cell_type": "code",
   "execution_count": null,
   "metadata": {},
   "outputs": [
    {
     "ename": "TimeoutException",
     "evalue": "Message: \nStacktrace:\n\tGetHandleVerifier [0x00007FF7F6B082B2+55298]\n\t(No symbol) [0x00007FF7F6A75E02]\n\t(No symbol) [0x00007FF7F69305AB]\n\t(No symbol) [0x00007FF7F697175C]\n\t(No symbol) [0x00007FF7F69718DC]\n\t(No symbol) [0x00007FF7F69ACBC7]\n\t(No symbol) [0x00007FF7F69920EF]\n\t(No symbol) [0x00007FF7F69AAAA4]\n\t(No symbol) [0x00007FF7F6991E83]\n\t(No symbol) [0x00007FF7F696670A]\n\t(No symbol) [0x00007FF7F6967964]\n\tGetHandleVerifier [0x00007FF7F6E80AAB+3694587]\n\tGetHandleVerifier [0x00007FF7F6ED728E+4048862]\n\tGetHandleVerifier [0x00007FF7F6ECF173+4015811]\n\tGetHandleVerifier [0x00007FF7F6BA47D6+695590]\n\t(No symbol) [0x00007FF7F6A80CE8]\n\t(No symbol) [0x00007FF7F6A7CF34]\n\t(No symbol) [0x00007FF7F6A7D062]\n\t(No symbol) [0x00007FF7F6A6D3A3]\n\tBaseThreadInitThunk [0x00007FFDD5AA257D+29]\n\tRtlUserThreadStart [0x00007FFDD78CAA58+40]\n",
     "output_type": "error",
     "traceback": [
      "\u001b[1;31m---------------------------------------------------------------------------\u001b[0m\n",
      "\u001b[1;31mTimeoutException\u001b[0m                          Traceback (most recent call last)\n",
      "\u001b[1;32mc:\\Users\\Asus\\Desktop\\Analytical\\DAV-5400\\Project 2\\Dynamic_Site_Scraping_with_Selenium.ipynb Cell 4\u001b[0m line \u001b[0;36m6\n",
      "\u001b[0;32m      <a href='vscode-notebook-cell:/c%3A/Users/Asus/Desktop/Analytical/DAV-5400/Project%202/Dynamic_Site_Scraping_with_Selenium.ipynb#W3sZmlsZQ%3D%3D?line=3'>4</a>\u001b[0m \u001b[39m# Cell 2: Create an instance of the scraper and scrape data for a specific symbol\u001b[39;00m\n",
      "\u001b[0;32m      <a href='vscode-notebook-cell:/c%3A/Users/Asus/Desktop/Analytical/DAV-5400/Project%202/Dynamic_Site_Scraping_with_Selenium.ipynb#W3sZmlsZQ%3D%3D?line=4'>5</a>\u001b[0m scraper \u001b[39m=\u001b[39m FinancialDataScraper(\u001b[39m\"\u001b[39m\u001b[39mC:\u001b[39m\u001b[39m\\\\\u001b[39;00m\u001b[39mUsers\u001b[39m\u001b[39m\\\\\u001b[39;00m\u001b[39mAsus\u001b[39m\u001b[39m\\\\\u001b[39;00m\u001b[39mDownloads\u001b[39m\u001b[39m\\\\\u001b[39;00m\u001b[39mchromedriver_win32\u001b[39m\u001b[39m\\\\\u001b[39;00m\u001b[39mchromedriver.exe\u001b[39m\u001b[39m\"\u001b[39m)\n",
      "\u001b[1;32m----> <a href='vscode-notebook-cell:/c%3A/Users/Asus/Desktop/Analytical/DAV-5400/Project%202/Dynamic_Site_Scraping_with_Selenium.ipynb#W3sZmlsZQ%3D%3D?line=5'>6</a>\u001b[0m df_aapl \u001b[39m=\u001b[39m scraper\u001b[39m.\u001b[39;49mscrape_company_data(\u001b[39m'\u001b[39;49m\u001b[39mAAPL\u001b[39;49m\u001b[39m'\u001b[39;49m) \n",
      "\n",
      "File \u001b[1;32mc:\\Users\\Asus\\Desktop\\Analytical\\DAV-5400\\Project 2\\dynamic_site_scraper.py:85\u001b[0m, in \u001b[0;36mFinancialDataScraper.scrape_company_data\u001b[1;34m(self, symbol)\u001b[0m\n",
      "\u001b[0;32m     82\u001b[0m \u001b[39mself\u001b[39m\u001b[39m.\u001b[39mbrowser\u001b[39m.\u001b[39mget(url_form\u001b[39m.\u001b[39mformat(symbol, \u001b[39m\"\u001b[39m\u001b[39mincome-statement\u001b[39m\u001b[39m\"\u001b[39m))\n",
      "\u001b[0;32m     84\u001b[0m \u001b[39m# Wait for the page to load\u001b[39;00m\n",
      "\u001b[1;32m---> 85\u001b[0m WebDriverWait(\u001b[39mself\u001b[39;49m\u001b[39m.\u001b[39;49mbrowser, \u001b[39m10\u001b[39;49m)\u001b[39m.\u001b[39;49muntil(\n",
      "\u001b[0;32m     86\u001b[0m     EC\u001b[39m.\u001b[39;49mpresence_of_element_located(\n",
      "\u001b[0;32m     87\u001b[0m         (By\u001b[39m.\u001b[39;49mXPATH, \u001b[39m\"\u001b[39;49m\u001b[39m//h1[contains(text(), \u001b[39;49m\u001b[39m'\u001b[39;49m\u001b[39mCompany Financials\u001b[39;49m\u001b[39m'\u001b[39;49m\u001b[39m)]\u001b[39;49m\u001b[39m\"\u001b[39;49m)\n",
      "\u001b[0;32m     88\u001b[0m     )\n",
      "\u001b[0;32m     89\u001b[0m )\n",
      "\u001b[0;32m     91\u001b[0m \u001b[39m# Scrape data\u001b[39;00m\n",
      "\u001b[0;32m     92\u001b[0m data[\u001b[39m\"\u001b[39m\u001b[39mcompany\u001b[39m\u001b[39m\"\u001b[39m] \u001b[39m+\u001b[39m\u001b[39m=\u001b[39m [symbol] \u001b[39m*\u001b[39m \u001b[39m4\u001b[39m\n",
      "\n",
      "File \u001b[1;32mc:\\Python311\\Lib\\site-packages\\selenium\\webdriver\\support\\wait.py:101\u001b[0m, in \u001b[0;36mWebDriverWait.until\u001b[1;34m(self, method, message)\u001b[0m\n",
      "\u001b[0;32m     99\u001b[0m     \u001b[39mif\u001b[39;00m time\u001b[39m.\u001b[39mmonotonic() \u001b[39m>\u001b[39m end_time:\n",
      "\u001b[0;32m    100\u001b[0m         \u001b[39mbreak\u001b[39;00m\n",
      "\u001b[1;32m--> 101\u001b[0m \u001b[39mraise\u001b[39;00m TimeoutException(message, screen, stacktrace)\n",
      "\n",
      "\u001b[1;31mTimeoutException\u001b[0m: Message: \n",
      "Stacktrace:\n",
      "\tGetHandleVerifier [0x00007FF7F6B082B2+55298]\n",
      "\t(No symbol) [0x00007FF7F6A75E02]\n",
      "\t(No symbol) [0x00007FF7F69305AB]\n",
      "\t(No symbol) [0x00007FF7F697175C]\n",
      "\t(No symbol) [0x00007FF7F69718DC]\n",
      "\t(No symbol) [0x00007FF7F69ACBC7]\n",
      "\t(No symbol) [0x00007FF7F69920EF]\n",
      "\t(No symbol) [0x00007FF7F69AAAA4]\n",
      "\t(No symbol) [0x00007FF7F6991E83]\n",
      "\t(No symbol) [0x00007FF7F696670A]\n",
      "\t(No symbol) [0x00007FF7F6967964]\n",
      "\tGetHandleVerifier [0x00007FF7F6E80AAB+3694587]\n",
      "\tGetHandleVerifier [0x00007FF7F6ED728E+4048862]\n",
      "\tGetHandleVerifier [0x00007FF7F6ECF173+4015811]\n",
      "\tGetHandleVerifier [0x00007FF7F6BA47D6+695590]\n",
      "\t(No symbol) [0x00007FF7F6A80CE8]\n",
      "\t(No symbol) [0x00007FF7F6A7CF34]\n",
      "\t(No symbol) [0x00007FF7F6A7D062]\n",
      "\t(No symbol) [0x00007FF7F6A6D3A3]\n",
      "\tBaseThreadInitThunk [0x00007FFDD5AA257D+29]\n",
      "\tRtlUserThreadStart [0x00007FFDD78CAA58+40]\n"
     ]
    }
   ],
   "source": [
    "# Cell 1: Import the scraping class\n",
    "from dynamic_site_scraper import FinancialDataScraper\n",
    "\n",
    "# Cell 2: Create an instance of the scraper and scrape data for a specific symbol\n",
    "scraper = FinancialDataScraper(\"C:\\\\Users\\\\Asus\\\\Downloads\\\\chromedriver_win32\\\\chromedriver.exe\")\n",
    "df_aapl = scraper.scrape_company_data('AAPL') "
   ]
  },
  {
   "cell_type": "code",
   "execution_count": null,
   "metadata": {},
   "outputs": [
    {
     "ename": "NameError",
     "evalue": "name 'driver' is not defined",
     "output_type": "error",
     "traceback": [
      "\u001b[1;31m---------------------------------------------------------------------------\u001b[0m\n",
      "\u001b[1;31mNameError\u001b[0m                                 Traceback (most recent call last)\n",
      "\u001b[1;32mc:\\Users\\Asus\\Desktop\\Analytical\\DAV-5400\\Project 2\\Dynamic_Site_Scraping_with_Selenium.ipynb Cell 5\u001b[0m line \u001b[0;36m1\n",
      "\u001b[1;32m----> <a href='vscode-notebook-cell:/c%3A/Users/Asus/Desktop/Analytical/DAV-5400/Project%202/Dynamic_Site_Scraping_with_Selenium.ipynb#W6sZmlsZQ%3D%3D?line=0'>1</a>\u001b[0m driver\u001b[39m.\u001b[39mget(\u001b[39m'\u001b[39m\u001b[39mhttps://finance.yahoo.com/\u001b[39m\u001b[39m'\u001b[39m)\n",
      "\u001b[0;32m      <a href='vscode-notebook-cell:/c%3A/Users/Asus/Desktop/Analytical/DAV-5400/Project%202/Dynamic_Site_Scraping_with_Selenium.ipynb#W6sZmlsZQ%3D%3D?line=2'>3</a>\u001b[0m \u001b[39m# Wait for the required elements to load (you may need to add explicit waits here)\u001b[39;00m\n",
      "\u001b[0;32m      <a href='vscode-notebook-cell:/c%3A/Users/Asus/Desktop/Analytical/DAV-5400/Project%202/Dynamic_Site_Scraping_with_Selenium.ipynb#W6sZmlsZQ%3D%3D?line=3'>4</a>\u001b[0m headlines \u001b[39m=\u001b[39m driver\u001b[39m.\u001b[39mfind_elements_by_xpath(\u001b[39m'\u001b[39m\u001b[39m//h3[@class=\u001b[39m\u001b[39m\"\u001b[39m\u001b[39mMb(5px)\u001b[39m\u001b[39m\"\u001b[39m\u001b[39m]\u001b[39m\u001b[39m'\u001b[39m)\n",
      "\n",
      "\u001b[1;31mNameError\u001b[0m: name 'driver' is not defined"
     ]
    }
   ],
   "source": [
    "driver.get('https://finance.yahoo.com/')\n",
    "\n",
    "# Wait for the required elements to load (you may need to add explicit waits here)\n",
    "headlines = driver.find_elements_by_xpath('//h3[@class=\"Mb(5px)\"]')\n",
    "\n",
    "# Extract text from the elements\n",
    "news_headlines = [headline.text for headline in headlines]\n"
   ]
  },
  {
   "cell_type": "markdown",
   "metadata": {},
   "source": []
  },
  {
   "cell_type": "markdown",
   "metadata": {},
   "source": []
  }
 ],
 "metadata": {
  "kernelspec": {
   "display_name": "Python 3",
   "language": "python",
   "name": "python3"
  },
  "language_info": {
   "codemirror_mode": {
    "name": "ipython",
    "version": 3
   },
   "file_extension": ".py",
   "mimetype": "text/x-python",
   "name": "python",
   "nbconvert_exporter": "python",
   "pygments_lexer": "ipython3",
   "version": "3.11.0"
  }
 },
 "nbformat": 4,
 "nbformat_minor": 2
}
