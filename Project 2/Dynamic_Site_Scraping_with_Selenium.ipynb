{
 "cells": [
  {
   "cell_type": "markdown",
   "metadata": {},
   "source": [
    "# Dynamic Website Scraping with Selenium\n",
    "### Author: Anuj Kumar Shah\n",
    "\n",
    "\n",
    "## Introduction\n",
    "\n",
    "This notebook demonstrates the process of scraping dynamic financial data using Selenium from Yahoo Finance. Yahoo Finance is a popular website that offers a comprehensive set of financial data, tools, and information, making it a valuable resource for financial analysts, investors, and data enthusiasts. The goal is to automate the browser to navigate the site, interact with various elements, and capture real-time financial data for analysis.\n",
    "\n",
    "We will specifically focus on [mention the specific data you aim to scrape, such as stock prices, news articles, or market trends] to demonstrate the capabilities of Selenium for web scraping tasks.\n",
    "\n",
    "## Setup\n",
    "Ensure you have Selenium installed along with the necessary WebDriver for the browser you intend to use. For Chrome, you would typically download `chromedriver` that matches your version of the browser.\n",
    "\n",
    "## Importing Required Libraries\n"
   ]
  },
  {
   "cell_type": "markdown",
   "metadata": {},
   "source": [
    "## Initializing the Selenium Scraper\n",
    "We initialize our `SeleniumScraper` class by passing in the URL of the website we want to scrape and the path to our WebDriver executable.\n"
   ]
  },
  {
   "cell_type": "markdown",
   "metadata": {},
   "source": [
    "## Environment Setup\n",
    "\n",
    "Before beginning the scraping process, we need to set up our environment by installing necessary Python packages and preparing the Selenium WebDriver.\n",
    "\n",
    "Ensure that you have installed the following packages using pip:\n",
    "\n",
    "- selenium\n",
    "- webdriver_manager (optional for managing the WebDriver binaries)\n",
    "\n"
   ]
  },
  {
   "cell_type": "code",
   "execution_count": 8,
   "metadata": {},
   "outputs": [
    {
     "ename": "TimeoutException",
     "evalue": "Message: \nStacktrace:\n\tGetHandleVerifier [0x00007FF7F6B082B2+55298]\n\t(No symbol) [0x00007FF7F6A75E02]\n\t(No symbol) [0x00007FF7F69305AB]\n\t(No symbol) [0x00007FF7F697175C]\n\t(No symbol) [0x00007FF7F69718DC]\n\t(No symbol) [0x00007FF7F69ACBC7]\n\t(No symbol) [0x00007FF7F69920EF]\n\t(No symbol) [0x00007FF7F69AAAA4]\n\t(No symbol) [0x00007FF7F6991E83]\n\t(No symbol) [0x00007FF7F696670A]\n\t(No symbol) [0x00007FF7F6967964]\n\tGetHandleVerifier [0x00007FF7F6E80AAB+3694587]\n\tGetHandleVerifier [0x00007FF7F6ED728E+4048862]\n\tGetHandleVerifier [0x00007FF7F6ECF173+4015811]\n\tGetHandleVerifier [0x00007FF7F6BA47D6+695590]\n\t(No symbol) [0x00007FF7F6A80CE8]\n\t(No symbol) [0x00007FF7F6A7CF34]\n\t(No symbol) [0x00007FF7F6A7D062]\n\t(No symbol) [0x00007FF7F6A6D3A3]\n\tBaseThreadInitThunk [0x00007FFDD5AA257D+29]\n\tRtlUserThreadStart [0x00007FFDD78CAA58+40]\n",
     "output_type": "error",
     "traceback": [
      "\u001b[1;31m---------------------------------------------------------------------------\u001b[0m",
      "\u001b[1;31mTimeoutException\u001b[0m                          Traceback (most recent call last)",
      "\u001b[1;32mc:\\Users\\Asus\\Desktop\\Analytical\\DAV-5400\\Project 2\\Dynamic_Site_Scraping_with_Selenium.ipynb Cell 4\u001b[0m line \u001b[0;36m5\n\u001b[0;32m      <a href='vscode-notebook-cell:/c%3A/Users/Asus/Desktop/Analytical/DAV-5400/Project%202/Dynamic_Site_Scraping_with_Selenium.ipynb#X10sZmlsZQ%3D%3D?line=1'>2</a>\u001b[0m scraper\u001b[39m.\u001b[39mstart_browser()\n\u001b[0;32m      <a href='vscode-notebook-cell:/c%3A/Users/Asus/Desktop/Analytical/DAV-5400/Project%202/Dynamic_Site_Scraping_with_Selenium.ipynb#X10sZmlsZQ%3D%3D?line=3'>4</a>\u001b[0m \u001b[39m# Scrape company data for Apple Inc.\u001b[39;00m\n\u001b[1;32m----> <a href='vscode-notebook-cell:/c%3A/Users/Asus/Desktop/Analytical/DAV-5400/Project%202/Dynamic_Site_Scraping_with_Selenium.ipynb#X10sZmlsZQ%3D%3D?line=4'>5</a>\u001b[0m df_aapl \u001b[39m=\u001b[39m scraper\u001b[39m.\u001b[39;49mscrape_company_data(\u001b[39m'\u001b[39;49m\u001b[39mAAPL\u001b[39;49m\u001b[39m'\u001b[39;49m)\n\u001b[0;32m      <a href='vscode-notebook-cell:/c%3A/Users/Asus/Desktop/Analytical/DAV-5400/Project%202/Dynamic_Site_Scraping_with_Selenium.ipynb#X10sZmlsZQ%3D%3D?line=6'>7</a>\u001b[0m \u001b[39m# Close the browser session\u001b[39;00m\n\u001b[0;32m      <a href='vscode-notebook-cell:/c%3A/Users/Asus/Desktop/Analytical/DAV-5400/Project%202/Dynamic_Site_Scraping_with_Selenium.ipynb#X10sZmlsZQ%3D%3D?line=7'>8</a>\u001b[0m scraper\u001b[39m.\u001b[39mclose_browser()\n",
      "File \u001b[1;32mc:\\Users\\Asus\\Desktop\\Analytical\\DAV-5400\\Project 2\\dynamic_site_scraper.py:85\u001b[0m, in \u001b[0;36mFinancialDataScraper.scrape_company_data\u001b[1;34m(self, symbol)\u001b[0m\n\u001b[0;32m     82\u001b[0m \u001b[39mself\u001b[39m\u001b[39m.\u001b[39mbrowser\u001b[39m.\u001b[39mget(url_form\u001b[39m.\u001b[39mformat(symbol, \u001b[39m\"\u001b[39m\u001b[39mincome-statement\u001b[39m\u001b[39m\"\u001b[39m))\n\u001b[0;32m     84\u001b[0m \u001b[39m# Wait for the page to load\u001b[39;00m\n\u001b[1;32m---> 85\u001b[0m WebDriverWait(\u001b[39mself\u001b[39;49m\u001b[39m.\u001b[39;49mbrowser, \u001b[39m10\u001b[39;49m)\u001b[39m.\u001b[39;49muntil(\n\u001b[0;32m     86\u001b[0m     EC\u001b[39m.\u001b[39;49mpresence_of_element_located(\n\u001b[0;32m     87\u001b[0m         (By\u001b[39m.\u001b[39;49mXPATH, \u001b[39m\"\u001b[39;49m\u001b[39m//h1[contains(text(), \u001b[39;49m\u001b[39m'\u001b[39;49m\u001b[39mCompany Financials\u001b[39;49m\u001b[39m'\u001b[39;49m\u001b[39m)]\u001b[39;49m\u001b[39m\"\u001b[39;49m)\n\u001b[0;32m     88\u001b[0m     )\n\u001b[0;32m     89\u001b[0m )\n\u001b[0;32m     91\u001b[0m \u001b[39m# Scrape data\u001b[39;00m\n\u001b[0;32m     92\u001b[0m data[\u001b[39m\"\u001b[39m\u001b[39mcompany\u001b[39m\u001b[39m\"\u001b[39m] \u001b[39m+\u001b[39m\u001b[39m=\u001b[39m [symbol] \u001b[39m*\u001b[39m \u001b[39m4\u001b[39m\n",
      "File \u001b[1;32mc:\\Python311\\Lib\\site-packages\\selenium\\webdriver\\support\\wait.py:101\u001b[0m, in \u001b[0;36mWebDriverWait.until\u001b[1;34m(self, method, message)\u001b[0m\n\u001b[0;32m     99\u001b[0m     \u001b[39mif\u001b[39;00m time\u001b[39m.\u001b[39mmonotonic() \u001b[39m>\u001b[39m end_time:\n\u001b[0;32m    100\u001b[0m         \u001b[39mbreak\u001b[39;00m\n\u001b[1;32m--> 101\u001b[0m \u001b[39mraise\u001b[39;00m TimeoutException(message, screen, stacktrace)\n",
      "\u001b[1;31mTimeoutException\u001b[0m: Message: \nStacktrace:\n\tGetHandleVerifier [0x00007FF7F6B082B2+55298]\n\t(No symbol) [0x00007FF7F6A75E02]\n\t(No symbol) [0x00007FF7F69305AB]\n\t(No symbol) [0x00007FF7F697175C]\n\t(No symbol) [0x00007FF7F69718DC]\n\t(No symbol) [0x00007FF7F69ACBC7]\n\t(No symbol) [0x00007FF7F69920EF]\n\t(No symbol) [0x00007FF7F69AAAA4]\n\t(No symbol) [0x00007FF7F6991E83]\n\t(No symbol) [0x00007FF7F696670A]\n\t(No symbol) [0x00007FF7F6967964]\n\tGetHandleVerifier [0x00007FF7F6E80AAB+3694587]\n\tGetHandleVerifier [0x00007FF7F6ED728E+4048862]\n\tGetHandleVerifier [0x00007FF7F6ECF173+4015811]\n\tGetHandleVerifier [0x00007FF7F6BA47D6+695590]\n\t(No symbol) [0x00007FF7F6A80CE8]\n\t(No symbol) [0x00007FF7F6A7CF34]\n\t(No symbol) [0x00007FF7F6A7D062]\n\t(No symbol) [0x00007FF7F6A6D3A3]\n\tBaseThreadInitThunk [0x00007FFDD5AA257D+29]\n\tRtlUserThreadStart [0x00007FFDD78CAA58+40]\n"
     ]
    }
   ],
   "source": [
    "# Start the browser session\n",
    "scraper.start_browser()\n",
    "\n",
    "# Scrape company data for Apple Inc.\n",
    "df_aapl = scraper.scrape_company_data('AAPL')\n",
    "\n",
    "# Close the browser session\n",
    "scraper.close_browser()\n"
   ]
  },
  {
   "cell_type": "code",
   "execution_count": 9,
   "metadata": {},
   "outputs": [
    {
     "ename": "NameError",
     "evalue": "name 'df_aapl' is not defined",
     "output_type": "error",
     "traceback": [
      "\u001b[1;31m---------------------------------------------------------------------------\u001b[0m",
      "\u001b[1;31mNameError\u001b[0m                                 Traceback (most recent call last)",
      "\u001b[1;32mc:\\Users\\Asus\\Desktop\\Analytical\\DAV-5400\\Project 2\\Dynamic_Site_Scraping_with_Selenium.ipynb Cell 5\u001b[0m line \u001b[0;36m2\n\u001b[0;32m      <a href='vscode-notebook-cell:/c%3A/Users/Asus/Desktop/Analytical/DAV-5400/Project%202/Dynamic_Site_Scraping_with_Selenium.ipynb#X11sZmlsZQ%3D%3D?line=0'>1</a>\u001b[0m \u001b[39m# Save the scraped data to a CSV file\u001b[39;00m\n\u001b[1;32m----> <a href='vscode-notebook-cell:/c%3A/Users/Asus/Desktop/Analytical/DAV-5400/Project%202/Dynamic_Site_Scraping_with_Selenium.ipynb#X11sZmlsZQ%3D%3D?line=1'>2</a>\u001b[0m df_aapl\u001b[39m.\u001b[39mto_csv(\u001b[39m'\u001b[39m\u001b[39mAAPL_financials.csv\u001b[39m\u001b[39m'\u001b[39m, index\u001b[39m=\u001b[39m\u001b[39mFalse\u001b[39;00m)\n",
      "\u001b[1;31mNameError\u001b[0m: name 'df_aapl' is not defined"
     ]
    }
   ],
   "source": [
    "# Save the scraped data to a CSV file\n",
    "df_aapl.to_csv('AAPL_financials.csv', index=False)\n"
   ]
  },
  {
   "cell_type": "code",
   "execution_count": 2,
   "metadata": {},
   "outputs": [
    {
     "ename": "TimeoutException",
     "evalue": "Message: \nStacktrace:\n\tGetHandleVerifier [0x00007FF7F6B082B2+55298]\n\t(No symbol) [0x00007FF7F6A75E02]\n\t(No symbol) [0x00007FF7F69305AB]\n\t(No symbol) [0x00007FF7F697175C]\n\t(No symbol) [0x00007FF7F69718DC]\n\t(No symbol) [0x00007FF7F69ACBC7]\n\t(No symbol) [0x00007FF7F69920EF]\n\t(No symbol) [0x00007FF7F69AAAA4]\n\t(No symbol) [0x00007FF7F6991E83]\n\t(No symbol) [0x00007FF7F696670A]\n\t(No symbol) [0x00007FF7F6967964]\n\tGetHandleVerifier [0x00007FF7F6E80AAB+3694587]\n\tGetHandleVerifier [0x00007FF7F6ED728E+4048862]\n\tGetHandleVerifier [0x00007FF7F6ECF173+4015811]\n\tGetHandleVerifier [0x00007FF7F6BA47D6+695590]\n\t(No symbol) [0x00007FF7F6A80CE8]\n\t(No symbol) [0x00007FF7F6A7CF34]\n\t(No symbol) [0x00007FF7F6A7D062]\n\t(No symbol) [0x00007FF7F6A6D3A3]\n\tBaseThreadInitThunk [0x00007FFDD5AA257D+29]\n\tRtlUserThreadStart [0x00007FFDD78CAA58+40]\n",
     "output_type": "error",
     "traceback": [
      "\u001b[1;31m---------------------------------------------------------------------------\u001b[0m",
      "\u001b[1;31mTimeoutException\u001b[0m                          Traceback (most recent call last)",
      "\u001b[1;32mc:\\Users\\Asus\\Desktop\\Analytical\\DAV-5400\\Project 2\\Dynamic_Site_Scraping_with_Selenium.ipynb Cell 4\u001b[0m line \u001b[0;36m6\n\u001b[0;32m      <a href='vscode-notebook-cell:/c%3A/Users/Asus/Desktop/Analytical/DAV-5400/Project%202/Dynamic_Site_Scraping_with_Selenium.ipynb#W3sZmlsZQ%3D%3D?line=3'>4</a>\u001b[0m \u001b[39m# Cell 2: Create an instance of the scraper and scrape data for a specific symbol\u001b[39;00m\n\u001b[0;32m      <a href='vscode-notebook-cell:/c%3A/Users/Asus/Desktop/Analytical/DAV-5400/Project%202/Dynamic_Site_Scraping_with_Selenium.ipynb#W3sZmlsZQ%3D%3D?line=4'>5</a>\u001b[0m scraper \u001b[39m=\u001b[39m FinancialDataScraper(\u001b[39m\"\u001b[39m\u001b[39mC:\u001b[39m\u001b[39m\\\\\u001b[39;00m\u001b[39mUsers\u001b[39m\u001b[39m\\\\\u001b[39;00m\u001b[39mAsus\u001b[39m\u001b[39m\\\\\u001b[39;00m\u001b[39mDownloads\u001b[39m\u001b[39m\\\\\u001b[39;00m\u001b[39mchromedriver_win32\u001b[39m\u001b[39m\\\\\u001b[39;00m\u001b[39mchromedriver.exe\u001b[39m\u001b[39m\"\u001b[39m)\n\u001b[1;32m----> <a href='vscode-notebook-cell:/c%3A/Users/Asus/Desktop/Analytical/DAV-5400/Project%202/Dynamic_Site_Scraping_with_Selenium.ipynb#W3sZmlsZQ%3D%3D?line=5'>6</a>\u001b[0m df_aapl \u001b[39m=\u001b[39m scraper\u001b[39m.\u001b[39;49mscrape_company_data(\u001b[39m'\u001b[39;49m\u001b[39mAAPL\u001b[39;49m\u001b[39m'\u001b[39;49m) \n",
      "File \u001b[1;32mc:\\Users\\Asus\\Desktop\\Analytical\\DAV-5400\\Project 2\\dynamic_site_scraper.py:85\u001b[0m, in \u001b[0;36mFinancialDataScraper.scrape_company_data\u001b[1;34m(self, symbol)\u001b[0m\n\u001b[0;32m     82\u001b[0m \u001b[39mself\u001b[39m\u001b[39m.\u001b[39mbrowser\u001b[39m.\u001b[39mget(url_form\u001b[39m.\u001b[39mformat(symbol, \u001b[39m\"\u001b[39m\u001b[39mincome-statement\u001b[39m\u001b[39m\"\u001b[39m))\n\u001b[0;32m     84\u001b[0m \u001b[39m# Wait for the page to load\u001b[39;00m\n\u001b[1;32m---> 85\u001b[0m WebDriverWait(\u001b[39mself\u001b[39;49m\u001b[39m.\u001b[39;49mbrowser, \u001b[39m10\u001b[39;49m)\u001b[39m.\u001b[39;49muntil(\n\u001b[0;32m     86\u001b[0m     EC\u001b[39m.\u001b[39;49mpresence_of_element_located(\n\u001b[0;32m     87\u001b[0m         (By\u001b[39m.\u001b[39;49mXPATH, \u001b[39m\"\u001b[39;49m\u001b[39m//h1[contains(text(), \u001b[39;49m\u001b[39m'\u001b[39;49m\u001b[39mCompany Financials\u001b[39;49m\u001b[39m'\u001b[39;49m\u001b[39m)]\u001b[39;49m\u001b[39m\"\u001b[39;49m)\n\u001b[0;32m     88\u001b[0m     )\n\u001b[0;32m     89\u001b[0m )\n\u001b[0;32m     91\u001b[0m \u001b[39m# Scrape data\u001b[39;00m\n\u001b[0;32m     92\u001b[0m data[\u001b[39m\"\u001b[39m\u001b[39mcompany\u001b[39m\u001b[39m\"\u001b[39m] \u001b[39m+\u001b[39m\u001b[39m=\u001b[39m [symbol] \u001b[39m*\u001b[39m \u001b[39m4\u001b[39m\n",
      "File \u001b[1;32mc:\\Python311\\Lib\\site-packages\\selenium\\webdriver\\support\\wait.py:101\u001b[0m, in \u001b[0;36mWebDriverWait.until\u001b[1;34m(self, method, message)\u001b[0m\n\u001b[0;32m     99\u001b[0m     \u001b[39mif\u001b[39;00m time\u001b[39m.\u001b[39mmonotonic() \u001b[39m>\u001b[39m end_time:\n\u001b[0;32m    100\u001b[0m         \u001b[39mbreak\u001b[39;00m\n\u001b[1;32m--> 101\u001b[0m \u001b[39mraise\u001b[39;00m TimeoutException(message, screen, stacktrace)\n",
      "\u001b[1;31mTimeoutException\u001b[0m: Message: \nStacktrace:\n\tGetHandleVerifier [0x00007FF7F6B082B2+55298]\n\t(No symbol) [0x00007FF7F6A75E02]\n\t(No symbol) [0x00007FF7F69305AB]\n\t(No symbol) [0x00007FF7F697175C]\n\t(No symbol) [0x00007FF7F69718DC]\n\t(No symbol) [0x00007FF7F69ACBC7]\n\t(No symbol) [0x00007FF7F69920EF]\n\t(No symbol) [0x00007FF7F69AAAA4]\n\t(No symbol) [0x00007FF7F6991E83]\n\t(No symbol) [0x00007FF7F696670A]\n\t(No symbol) [0x00007FF7F6967964]\n\tGetHandleVerifier [0x00007FF7F6E80AAB+3694587]\n\tGetHandleVerifier [0x00007FF7F6ED728E+4048862]\n\tGetHandleVerifier [0x00007FF7F6ECF173+4015811]\n\tGetHandleVerifier [0x00007FF7F6BA47D6+695590]\n\t(No symbol) [0x00007FF7F6A80CE8]\n\t(No symbol) [0x00007FF7F6A7CF34]\n\t(No symbol) [0x00007FF7F6A7D062]\n\t(No symbol) [0x00007FF7F6A6D3A3]\n\tBaseThreadInitThunk [0x00007FFDD5AA257D+29]\n\tRtlUserThreadStart [0x00007FFDD78CAA58+40]\n"
     ]
    }
   ],
   "source": [
    "# Cell 1: Import the scraping class\n",
    "from dynamic_site_scraper import FinancialDataScraper\n",
    "\n",
    "# Cell 2: Create an instance of the scraper and scrape data for a specific symbol\n",
    "scraper = FinancialDataScraper(\"C:\\\\Users\\\\Asus\\\\Downloads\\\\chromedriver_win32\\\\chromedriver.exe\")\n",
    "df_aapl = scraper.scrape_company_data('AAPL') "
   ]
  },
  {
   "cell_type": "code",
   "execution_count": 3,
   "metadata": {},
   "outputs": [
    {
     "ename": "NameError",
     "evalue": "name 'driver' is not defined",
     "output_type": "error",
     "traceback": [
      "\u001b[1;31m---------------------------------------------------------------------------\u001b[0m",
      "\u001b[1;31mNameError\u001b[0m                                 Traceback (most recent call last)",
      "\u001b[1;32mc:\\Users\\Asus\\Desktop\\Analytical\\DAV-5400\\Project 2\\Dynamic_Site_Scraping_with_Selenium.ipynb Cell 5\u001b[0m line \u001b[0;36m1\n\u001b[1;32m----> <a href='vscode-notebook-cell:/c%3A/Users/Asus/Desktop/Analytical/DAV-5400/Project%202/Dynamic_Site_Scraping_with_Selenium.ipynb#W6sZmlsZQ%3D%3D?line=0'>1</a>\u001b[0m driver\u001b[39m.\u001b[39mget(\u001b[39m'\u001b[39m\u001b[39mhttps://finance.yahoo.com/\u001b[39m\u001b[39m'\u001b[39m)\n\u001b[0;32m      <a href='vscode-notebook-cell:/c%3A/Users/Asus/Desktop/Analytical/DAV-5400/Project%202/Dynamic_Site_Scraping_with_Selenium.ipynb#W6sZmlsZQ%3D%3D?line=2'>3</a>\u001b[0m \u001b[39m# Wait for the required elements to load (you may need to add explicit waits here)\u001b[39;00m\n\u001b[0;32m      <a href='vscode-notebook-cell:/c%3A/Users/Asus/Desktop/Analytical/DAV-5400/Project%202/Dynamic_Site_Scraping_with_Selenium.ipynb#W6sZmlsZQ%3D%3D?line=3'>4</a>\u001b[0m headlines \u001b[39m=\u001b[39m driver\u001b[39m.\u001b[39mfind_elements_by_xpath(\u001b[39m'\u001b[39m\u001b[39m//h3[@class=\u001b[39m\u001b[39m\"\u001b[39m\u001b[39mMb(5px)\u001b[39m\u001b[39m\"\u001b[39m\u001b[39m]\u001b[39m\u001b[39m'\u001b[39m)\n",
      "\u001b[1;31mNameError\u001b[0m: name 'driver' is not defined"
     ]
    }
   ],
   "source": [
    "driver.get('https://finance.yahoo.com/')\n",
    "\n",
    "# Wait for the required elements to load (you may need to add explicit waits here)\n",
    "headlines = driver.find_elements_by_xpath('//h3[@class=\"Mb(5px)\"]')\n",
    "\n",
    "# Extract text from the elements\n",
    "news_headlines = [headline.text for headline in headlines]\n"
   ]
  },
  {
   "cell_type": "markdown",
   "metadata": {},
   "source": []
  },
  {
   "cell_type": "markdown",
   "metadata": {},
   "source": []
  }
 ],
 "metadata": {
  "kernelspec": {
   "display_name": "Python 3",
   "language": "python",
   "name": "python3"
  },
  "language_info": {
   "codemirror_mode": {
    "name": "ipython",
    "version": 3
   },
   "file_extension": ".py",
   "mimetype": "text/x-python",
   "name": "python",
   "nbconvert_exporter": "python",
   "pygments_lexer": "ipython3",
   "version": "3.11.0"
  }
 },
 "nbformat": 4,
 "nbformat_minor": 2
}
