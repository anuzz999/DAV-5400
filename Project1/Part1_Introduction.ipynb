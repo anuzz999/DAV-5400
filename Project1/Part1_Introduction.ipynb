{
  "cells": [
    {
      "cell_type": "markdown",
      "metadata": {
        "id": "XzkgU09nFlH-"
      },
      "source": [
        "# **Exploratory Data Analysis of SPY Option Chain Data**\n"
      ]
    },
    {
      "cell_type": "markdown",
      "metadata": {
        "id": "_y5XCMNaFrim"
      },
      "source": [
        "## **Author: Anuj Kumar Shah**"
      ]
    },
    {
      "cell_type": "markdown",
      "metadata": {
        "id": "859PZA_NFr_A"
      },
      "source": [
        "### Part 1: Introduction\n",
        "\n"
      ]
    },
    {
      "cell_type": "markdown",
      "metadata": {
        "id": "mvJ1RBmyFsBv"
      },
      "source": [
        "### **Dataset** - SPY 2023 Q1 Option Chain Data EOD\n",
        "**Dataset Selection:** SPY Option Chain Data\n",
        "The dataset selected for analysis comprises option chain data for the SPY (S&P 500 ETF), one of the most traded options in the United States, often leading in daily trading volume. This prominence underscores the dataset's significance, offering a rich foundation for exploratory data analysis in understanding option trading dynamics.\n",
        "\n",
        "**Utility in Exploratory Data Analysis (EDA):**\n",
        "- The dataset encompasses vital attributes such as option prices, Greeks, implied volatility (IV), and expiry details, essential components for discerning patterns and informing trading strategies in the options market.\n",
        "- The dataset is therefore rich with various attributes essential for options trading, allowing for a comprehensive EDA to uncover patterns, correlations, and insights that can inform and enhance trading strategies."
      ]
    },
    {
      "cell_type": "markdown",
      "metadata": {
        "id": "oMyiex9MGxqH"
      },
      "source": [
        "### **Summary of the Chosen Dataset: SPY Option Chain Data**\n",
        "\n",
        "#### **Type of Data:**\n",
        "- **Financial Options Data:** The dataset comprises information related to financial options, specifically for the SPY (S&P 500 ETF) for 2023 Q1 for End of Day(EOD).\n",
        "\n",
        "\n",
        "#### **Key Components:**\n",
        "- **Option Prices:** The dataset includes various pricing attributes like bid, ask, and last traded prices for both call and put options.\n",
        "- **Greeks:** Data on the Greeks (Delta, Gamma, Vega, Theta, Rho) is included, which are essential risk measures in options trading.\n",
        "- **Implied Volatility (IV):** IV values for options are provided, a crucial factor influencing option prices.\n",
        "- **Expiry Details:** Information such as expiry dates and days to expiry (DTE) are included, fundamental to option strategies.\n",
        "- **Underlying Asset Price:** The last price of the underlying asset (SPY) is also part of the dataset.\n",
        "\n",
        "\n",
        "\n",
        "\n"
      ]
    },
    {
      "cell_type": "markdown",
      "metadata": {
        "id": "Ry-XZL2MFsEa"
      },
      "source": [
        "#### **Research Questions**\n",
        "- **Understanding Implied Volatility (IV):** Analyzing the role of IV in options trading and its correlation with option prices and Greeks. What is the impact of IV on option prices and Greeks?\n",
        "- **Greeks vs. Days to Expiry (DTE):** Investigating how option Greeks react when the expiry date comes nearer. How do option Greeks evolve as expiry approaches?\n",
        "- **Impact of Strike Price Distance:** Examining how the distance between the strike price and the underlying asset's price affects option attributes. How does the distance between the strike price and the underlying asset's price influence option attributes?\n",
        "- **IV Changes Near Expiry:** Exploring how IV behaves as options get closer to their expiration date. How does IV behave as options near their expiration date?\n"
      ]
    },
    {
      "cell_type": "markdown",
      "metadata": {
        "id": "W5iiuXCqHBzQ"
      },
      "source": [
        "#### **Relevance to Research Questions:**\n",
        "- **Understanding IV:** Given that IV is part of the dataset, it allows for in-depth analysis to understand its impact on option prices and trading strategies.\n",
        "- **Analyzing Greeks:** Since the dataset includes Greeks, it facilitates the exploration of their relationship with DTE and other option attributes.\n",
        "- **Strike Price and Underlying Price Relationship:** The dataset enables the investigation of how option characteristics are influenced by the distance between strike prices and the underlying asset’s price."
      ]
    },
    {
      "cell_type": "markdown",
      "metadata": {
        "id": "wfLCTI8KFsHI"
      },
      "source": [
        "#### **Objective**\n",
        "- Conduct exploratory data analysis to uncover patterns and insights related to the research questions, aiming to enhance strategies in options trading.\n"
      ]
    }
  ],
  "metadata": {
    "colab": {
      "provenance": []
    },
    "kernelspec": {
      "display_name": "Python 3",
      "name": "python3"
    },
    "language_info": {
      "name": "python"
    }
  },
  "nbformat": 4,
  "nbformat_minor": 0
}
