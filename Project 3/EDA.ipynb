{
 "cells": [
  {
   "cell_type": "markdown",
   "metadata": {},
   "source": [
    "# Part 3: EDA\n",
    "## 2. Data Cleaning and Summarization\n",
    "\n",
    "This section is dedicated to preparing the dataset for in-depth analysis. By employing the `DataLoader` module developed in Project 1, we will streamline data preprocessing while ensuring modularity and reusability of our code.\n",
    "\n",
    "### 2.1 Loading and Inspecting Data\n",
    "The initial step involves loading the data efficiently using the `DataLoader` class. This class allows for a concise and clear data loading process, minimizing redundancy and ensuring data integrity.\n",
    "\n",
    "### 2.2 Data Cleaning\n",
    "Our data cleaning process includes:\n",
    "\n",
    "#### 2.2.1 Cleaning Column Names\n",
    "We remove any unwanted characters from column names, such as square brackets, to improve the readability and accessibility of the dataset.\n",
    "\n",
    "#### 2.2.2 Handling Missing Values\n",
    "An analysis of missing values is conducted to identify any underlying patterns. Based on this analysis, we will outline our strategy for dealing with these values.\n",
    "\n",
    "#### 2.2.3 Selecting Relevant Columns\n",
    "Only columns that are essential for addressing our expanded research questions are retained. A detailed explanation is provided for each column that is dropped or kept.\n",
    "\n",
    "#### 2.2.4 Concatenation of Multiple Files\n",
    "If the dataset spans multiple files, we will concatenate them into a single DataFrame. This process will be documented to ensure clarity and reproducibility.\n",
    "\n",
    "### 2.3 Data Summary Reporting\n",
    "After cleaning, we will use various `DataLoader` methods to present the dataset. This includes a basic info display, a statistical summary, and a report on the number of unique values for certain columns.\n",
    "\n",
    "### 2.4 Saving Cleaned Data\n",
    "Finally, the cleaned dataset is saved to a CSV file. This step is crucial for maintaining a backup of our processed data and facilitating easy access in subsequent phases of the project.\n"
   ]
  },
  {
   "cell_type": "markdown",
   "metadata": {},
   "source": []
  }
 ],
 "metadata": {
  "language_info": {
   "name": "python"
  }
 },
 "nbformat": 4,
 "nbformat_minor": 2
}
